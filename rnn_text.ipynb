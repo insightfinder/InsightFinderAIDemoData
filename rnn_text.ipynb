{
 "cells": [
  {
   "cell_type": "markdown",
   "id": "3a67bedb-0fe1-4be9-9129-03c1d84a3bf0",
   "metadata": {},
   "source": [
    "# cancer_text-better-drift"
   ]
  },
  {
   "cell_type": "code",
   "execution_count": 72,
   "id": "d8c177fa-56eb-4a95-a1d7-78b2a0fe70f7",
   "metadata": {},
   "outputs": [],
   "source": [
    "# copy from block 1 to 48"
   ]
  },
  {
   "cell_type": "code",
   "execution_count": 73,
   "id": "a20857ec-343f-4190-ad51-8fc9441440f1",
   "metadata": {},
   "outputs": [
    {
     "data": {
      "text/html": [
       "<div>\n",
       "<style scoped>\n",
       "    .dataframe tbody tr th:only-of-type {\n",
       "        vertical-align: middle;\n",
       "    }\n",
       "\n",
       "    .dataframe tbody tr th {\n",
       "        vertical-align: top;\n",
       "    }\n",
       "\n",
       "    .dataframe thead th {\n",
       "        text-align: right;\n",
       "    }\n",
       "</style>\n",
       "<table border=\"1\" class=\"dataframe\">\n",
       "  <thead>\n",
       "    <tr style=\"text-align: right;\">\n",
       "      <th></th>\n",
       "      <th>Unnamed: 0</th>\n",
       "      <th>0</th>\n",
       "      <th>a</th>\n",
       "    </tr>\n",
       "  </thead>\n",
       "  <tbody>\n",
       "    <tr>\n",
       "      <th>0</th>\n",
       "      <td>0</td>\n",
       "      <td>Thyroid_Cancer</td>\n",
       "      <td>Thyroid surgery in  children in a single insti...</td>\n",
       "    </tr>\n",
       "    <tr>\n",
       "      <th>1</th>\n",
       "      <td>1</td>\n",
       "      <td>Thyroid_Cancer</td>\n",
       "      <td>\" The adopted strategy was the same as that us...</td>\n",
       "    </tr>\n",
       "    <tr>\n",
       "      <th>2</th>\n",
       "      <td>2</td>\n",
       "      <td>Thyroid_Cancer</td>\n",
       "      <td>coronary arterybypass grafting thrombosis ï¬b...</td>\n",
       "    </tr>\n",
       "    <tr>\n",
       "      <th>3</th>\n",
       "      <td>3</td>\n",
       "      <td>Thyroid_Cancer</td>\n",
       "      <td>Solitary plasmacytoma SP of the skull is an u...</td>\n",
       "    </tr>\n",
       "    <tr>\n",
       "      <th>4</th>\n",
       "      <td>4</td>\n",
       "      <td>Thyroid_Cancer</td>\n",
       "      <td>This study aimed to investigate serum matrix ...</td>\n",
       "    </tr>\n",
       "  </tbody>\n",
       "</table>\n",
       "</div>"
      ],
      "text/plain": [
       "   Unnamed: 0               0  \\\n",
       "0           0  Thyroid_Cancer   \n",
       "1           1  Thyroid_Cancer   \n",
       "2           2  Thyroid_Cancer   \n",
       "3           3  Thyroid_Cancer   \n",
       "4           4  Thyroid_Cancer   \n",
       "\n",
       "                                                   a  \n",
       "0  Thyroid surgery in  children in a single insti...  \n",
       "1  \" The adopted strategy was the same as that us...  \n",
       "2  coronary arterybypass grafting thrombosis ï¬b...  \n",
       "3   Solitary plasmacytoma SP of the skull is an u...  \n",
       "4   This study aimed to investigate serum matrix ...  "
      ]
     },
     "execution_count": 73,
     "metadata": {},
     "output_type": "execute_result"
    }
   ],
   "source": [
    "#read the data\n",
    "import pandas as pd\n",
    "df=pd.read_csv(\"data/cancerdoc/alldata_1_for_kaggle.csv\",encoding='latin1')\n",
    "df.head()"
   ]
  },
  {
   "cell_type": "code",
   "execution_count": 74,
   "id": "ad16f190-117f-4e6e-9481-0baac3161d8f",
   "metadata": {},
   "outputs": [
    {
     "name": "stdout",
     "output_type": "stream",
     "text": [
      "<class 'pandas.core.frame.DataFrame'>\n",
      "RangeIndex: 7570 entries, 0 to 7569\n",
      "Data columns (total 3 columns):\n",
      " #   Column      Non-Null Count  Dtype \n",
      "---  ------      --------------  ----- \n",
      " 0   Unnamed: 0  7570 non-null   int64 \n",
      " 1   0           7570 non-null   object\n",
      " 2   a           7570 non-null   object\n",
      "dtypes: int64(1), object(2)\n",
      "memory usage: 177.5+ KB\n"
     ]
    }
   ],
   "source": [
    "df.info()"
   ]
  },
  {
   "cell_type": "code",
   "execution_count": 75,
   "id": "ecdd7cb9-972a-4b61-8bbb-3cf1ca03029b",
   "metadata": {},
   "outputs": [
    {
     "data": {
      "text/plain": [
       "0"
      ]
     },
     "execution_count": 75,
     "metadata": {},
     "output_type": "execute_result"
    }
   ],
   "source": [
    "#Check Duplicated vals\n",
    "df.duplicated().sum()"
   ]
  },
  {
   "cell_type": "code",
   "execution_count": 76,
   "id": "92ccd35e-de5c-4bac-80a2-87516f5fed98",
   "metadata": {},
   "outputs": [
    {
     "data": {
      "text/html": [
       "<div>\n",
       "<style scoped>\n",
       "    .dataframe tbody tr th:only-of-type {\n",
       "        vertical-align: middle;\n",
       "    }\n",
       "\n",
       "    .dataframe tbody tr th {\n",
       "        vertical-align: top;\n",
       "    }\n",
       "\n",
       "    .dataframe thead th {\n",
       "        text-align: right;\n",
       "    }\n",
       "</style>\n",
       "<table border=\"1\" class=\"dataframe\">\n",
       "  <thead>\n",
       "    <tr style=\"text-align: right;\">\n",
       "      <th></th>\n",
       "      <th>Unnamed: 0</th>\n",
       "      <th>labels</th>\n",
       "      <th>text</th>\n",
       "    </tr>\n",
       "  </thead>\n",
       "  <tbody>\n",
       "    <tr>\n",
       "      <th>0</th>\n",
       "      <td>0</td>\n",
       "      <td>Thyroid_Cancer</td>\n",
       "      <td>Thyroid surgery in  children in a single insti...</td>\n",
       "    </tr>\n",
       "    <tr>\n",
       "      <th>1</th>\n",
       "      <td>1</td>\n",
       "      <td>Thyroid_Cancer</td>\n",
       "      <td>\" The adopted strategy was the same as that us...</td>\n",
       "    </tr>\n",
       "    <tr>\n",
       "      <th>2</th>\n",
       "      <td>2</td>\n",
       "      <td>Thyroid_Cancer</td>\n",
       "      <td>coronary arterybypass grafting thrombosis ï¬b...</td>\n",
       "    </tr>\n",
       "    <tr>\n",
       "      <th>3</th>\n",
       "      <td>3</td>\n",
       "      <td>Thyroid_Cancer</td>\n",
       "      <td>Solitary plasmacytoma SP of the skull is an u...</td>\n",
       "    </tr>\n",
       "    <tr>\n",
       "      <th>4</th>\n",
       "      <td>4</td>\n",
       "      <td>Thyroid_Cancer</td>\n",
       "      <td>This study aimed to investigate serum matrix ...</td>\n",
       "    </tr>\n",
       "  </tbody>\n",
       "</table>\n",
       "</div>"
      ],
      "text/plain": [
       "   Unnamed: 0          labels  \\\n",
       "0           0  Thyroid_Cancer   \n",
       "1           1  Thyroid_Cancer   \n",
       "2           2  Thyroid_Cancer   \n",
       "3           3  Thyroid_Cancer   \n",
       "4           4  Thyroid_Cancer   \n",
       "\n",
       "                                                text  \n",
       "0  Thyroid surgery in  children in a single insti...  \n",
       "1  \" The adopted strategy was the same as that us...  \n",
       "2  coronary arterybypass grafting thrombosis ï¬b...  \n",
       "3   Solitary plasmacytoma SP of the skull is an u...  \n",
       "4   This study aimed to investigate serum matrix ...  "
      ]
     },
     "execution_count": 76,
     "metadata": {},
     "output_type": "execute_result"
    }
   ],
   "source": [
    "#rename cols\n",
    "df = df.rename(columns={'0': 'labels', 'a': 'text'})\n",
    "df.head()"
   ]
  },
  {
   "cell_type": "code",
   "execution_count": 77,
   "id": "776f6b82-b711-4772-bcd9-668cd25e0f82",
   "metadata": {},
   "outputs": [
    {
     "data": {
      "text/plain": [
       "labels\n",
       "Thyroid_Cancer    2810\n",
       "Colon_Cancer      2580\n",
       "Lung_Cancer       2180\n",
       "Name: count, dtype: int64"
      ]
     },
     "execution_count": 77,
     "metadata": {},
     "output_type": "execute_result"
    }
   ],
   "source": [
    "# df['labels'].unique()\n",
    "df['labels'].value_counts()"
   ]
  },
  {
   "cell_type": "markdown",
   "id": "f7d67cd1-542d-48db-ae99-cac2f5319ce3",
   "metadata": {},
   "source": [
    "#### add entropy"
   ]
  },
  {
   "cell_type": "code",
   "execution_count": 78,
   "id": "46efcd51-c089-4df8-8ff5-00d6175d5f6a",
   "metadata": {},
   "outputs": [
    {
     "data": {
      "text/html": [
       "<div>\n",
       "<style scoped>\n",
       "    .dataframe tbody tr th:only-of-type {\n",
       "        vertical-align: middle;\n",
       "    }\n",
       "\n",
       "    .dataframe tbody tr th {\n",
       "        vertical-align: top;\n",
       "    }\n",
       "\n",
       "    .dataframe thead th {\n",
       "        text-align: right;\n",
       "    }\n",
       "</style>\n",
       "<table border=\"1\" class=\"dataframe\">\n",
       "  <thead>\n",
       "    <tr style=\"text-align: right;\">\n",
       "      <th></th>\n",
       "      <th>Unnamed: 0</th>\n",
       "      <th>labels</th>\n",
       "      <th>text</th>\n",
       "      <th>entropy</th>\n",
       "    </tr>\n",
       "  </thead>\n",
       "  <tbody>\n",
       "    <tr>\n",
       "      <th>0</th>\n",
       "      <td>0</td>\n",
       "      <td>Thyroid_Cancer</td>\n",
       "      <td>Thyroid surgery in  children in a single insti...</td>\n",
       "      <td>4.477048</td>\n",
       "    </tr>\n",
       "    <tr>\n",
       "      <th>1</th>\n",
       "      <td>1</td>\n",
       "      <td>Thyroid_Cancer</td>\n",
       "      <td>\" The adopted strategy was the same as that us...</td>\n",
       "      <td>4.462335</td>\n",
       "    </tr>\n",
       "    <tr>\n",
       "      <th>2</th>\n",
       "      <td>2</td>\n",
       "      <td>Thyroid_Cancer</td>\n",
       "      <td>coronary arterybypass grafting thrombosis ï¬b...</td>\n",
       "      <td>4.678069</td>\n",
       "    </tr>\n",
       "    <tr>\n",
       "      <th>3</th>\n",
       "      <td>3</td>\n",
       "      <td>Thyroid_Cancer</td>\n",
       "      <td>Solitary plasmacytoma SP of the skull is an u...</td>\n",
       "      <td>4.520333</td>\n",
       "    </tr>\n",
       "    <tr>\n",
       "      <th>4</th>\n",
       "      <td>4</td>\n",
       "      <td>Thyroid_Cancer</td>\n",
       "      <td>This study aimed to investigate serum matrix ...</td>\n",
       "      <td>4.544866</td>\n",
       "    </tr>\n",
       "  </tbody>\n",
       "</table>\n",
       "</div>"
      ],
      "text/plain": [
       "   Unnamed: 0          labels  \\\n",
       "0           0  Thyroid_Cancer   \n",
       "1           1  Thyroid_Cancer   \n",
       "2           2  Thyroid_Cancer   \n",
       "3           3  Thyroid_Cancer   \n",
       "4           4  Thyroid_Cancer   \n",
       "\n",
       "                                                text   entropy  \n",
       "0  Thyroid surgery in  children in a single insti...  4.477048  \n",
       "1  \" The adopted strategy was the same as that us...  4.462335  \n",
       "2  coronary arterybypass grafting thrombosis ï¬b...  4.678069  \n",
       "3   Solitary plasmacytoma SP of the skull is an u...  4.520333  \n",
       "4   This study aimed to investigate serum matrix ...  4.544866  "
      ]
     },
     "execution_count": 78,
     "metadata": {},
     "output_type": "execute_result"
    }
   ],
   "source": [
    "import pandas as pd\n",
    "import numpy as np\n",
    "from collections import Counter\n",
    "\n",
    "def calculate_entropy(text):\n",
    "    # Tokenize the text into characters\n",
    "    tokens = list(text)\n",
    "    # Count the frequency of each token\n",
    "    token_counts = Counter(tokens)\n",
    "    # Calculate probabilities\n",
    "    total_count = sum(token_counts.values())\n",
    "    probabilities = [count / total_count for count in token_counts.values()]\n",
    "    # Compute entropy\n",
    "    entropy = -sum(p * np.log2(p) for p in probabilities)\n",
    "    return entropy\n",
    "\n",
    "# Calculate entropy for each row in the text column\n",
    "df['entropy'] = df['text'].apply(calculate_entropy)\n",
    "\n",
    "df.head()"
   ]
  },
  {
   "cell_type": "code",
   "execution_count": 79,
   "id": "2cbf271c-d226-40ad-a85e-908c39e07aff",
   "metadata": {},
   "outputs": [
    {
     "data": {
      "image/png": "[encoded data removed]",
      "text/plain": [
       "<Figure size 1000x600 with 1 Axes>"
      ]
     },
     "metadata": {},
     "output_type": "display_data"
    }
   ],
   "source": [
    "import matplotlib.pyplot as plt\n",
    "\n",
    "df['entropy'] = df['entropy'].round(1)\n",
    "# Plot the frequency bar chart\n",
    "plt.figure(figsize=(10, 6))\n",
    "df['entropy'].value_counts().sort_index().plot(kind='bar', color='skyblue')\n",
    "plt.title('Frequency Bar Chart of Entropy')\n",
    "plt.xlabel('Entropy Values')\n",
    "plt.ylabel('Frequency')\n",
    "plt.xticks(rotation=45)\n",
    "plt.grid(axis='y', linestyle='--', alpha=0.7)\n",
    "plt.show()"
   ]
  },
  {
   "cell_type": "code",
   "execution_count": 80,
   "id": "c6ff5893-1276-4c62-9614-e5af0c4ba9b9",
   "metadata": {},
   "outputs": [
    {
     "data": {
      "text/plain": [
       "count    7570.000000\n",
       "mean        4.517133\n",
       "std         0.238839\n",
       "min         3.800000\n",
       "25%         4.300000\n",
       "50%         4.500000\n",
       "75%         4.700000\n",
       "max         5.200000\n",
       "Name: entropy, dtype: float64"
      ]
     },
     "execution_count": 80,
     "metadata": {},
     "output_type": "execute_result"
    }
   ],
   "source": [
    "df.entropy.describe()"
   ]
  },
  {
   "cell_type": "code",
   "execution_count": 81,
   "id": "484a40be-5478-4069-b747-63372779f645",
   "metadata": {},
   "outputs": [],
   "source": [
    "texts = df['text'].values\n",
    "labels = df['labels'].values"
   ]
  },
  {
   "cell_type": "code",
   "execution_count": 82,
   "id": "b647ccd2-00c1-4a06-9dcd-5be48d1a0686",
   "metadata": {},
   "outputs": [
    {
     "name": "stdout",
     "output_type": "stream",
     "text": [
      "Dimensions of X_train : (6056, 2)\n",
      "Dimensions of X_test  : (1514, 2)\n",
      "Dimensions of y_train : (6056,)\n",
      "Dimensions of y_test  : (1514,)\n"
     ]
    }
   ],
   "source": [
    "#split the data\n",
    "from sklearn.model_selection import train_test_split\n",
    "\n",
    "feature_cols = ['text', 'entropy']\n",
    "X = df[feature_cols] # Features\n",
    "y = df.labels # Target variable\n",
    "\n",
    "X_train, X_test, y_train, y_test = train_test_split(X, y, test_size=0.2, random_state=42,shuffle=True,stratify=labels)\n",
    "\n",
    "print(\"Dimensions of X_train :\", X_train.shape)\n",
    "print(\"Dimensions of X_test  :\", X_test.shape)\n",
    "print(\"Dimensions of y_train :\", y_train.shape)\n",
    "print(\"Dimensions of y_test  :\", y_test.shape)"
   ]
  },
  {
   "cell_type": "code",
   "execution_count": 83,
   "id": "e3796b38-207a-4301-8142-cd8e4c6e40c6",
   "metadata": {},
   "outputs": [],
   "source": [
    "# !pip install tensorflow"
   ]
  },
  {
   "cell_type": "code",
   "execution_count": 84,
   "id": "eff34b12-52a5-49d7-94ad-4ec958699ff9",
   "metadata": {},
   "outputs": [],
   "source": [
    "from tensorflow.keras.preprocessing.text import Tokenizer\n",
    "\n",
    "tokenizer = Tokenizer()\n",
    "tokenizer.fit_on_texts(X_train['text'])\n",
    "\n",
    "X_train_seq = tokenizer.texts_to_sequences(X_train['text'])\n",
    "X_test_seq = tokenizer.texts_to_sequences(X_test['text'])\n",
    "# X_train_seq[0]"
   ]
  },
  {
   "cell_type": "code",
   "execution_count": 85,
   "id": "4a07ca4d-a7d6-4745-9edc-1ac2113f8aaa",
   "metadata": {},
   "outputs": [
    {
     "data": {
      "text/plain": [
       "array([    0,     0,     0, ...,     9, 70151,   165], dtype=int32)"
      ]
     },
     "execution_count": 85,
     "metadata": {},
     "output_type": "execute_result"
    }
   ],
   "source": [
    "from tensorflow.keras.preprocessing.sequence import pad_sequences\n",
    "\n",
    "max_len = max([len(seq) for seq in X_train_seq])  # Maximum length of sequences\n",
    "X_train_pad = pad_sequences(X_train_seq, maxlen=max_len)\n",
    "X_test_pad = pad_sequences(X_test_seq, maxlen=max_len)\n",
    "\n",
    "X_train_pad[0]"
   ]
  },
  {
   "cell_type": "code",
   "execution_count": 86,
   "id": "535d5f4e-4254-434f-a732-92849846ca56",
   "metadata": {},
   "outputs": [
    {
     "data": {
      "text/plain": [
       "array([[1., 0., 0.],\n",
       "       [0., 0., 1.],\n",
       "       [0., 1., 0.],\n",
       "       ...,\n",
       "       [0., 1., 0.],\n",
       "       [1., 0., 0.],\n",
       "       [0., 0., 1.]], dtype=float32)"
      ]
     },
     "execution_count": 86,
     "metadata": {},
     "output_type": "execute_result"
    }
   ],
   "source": [
    "from tensorflow.keras.utils import to_categorical\n",
    "from sklearn.preprocessing import LabelEncoder\n",
    "\n",
    "label_encoder = LabelEncoder()\n",
    "y_train_ = label_encoder.fit_transform(y_train)\n",
    "y_test_ = label_encoder.transform(y_test)\n",
    "\n",
    "\n",
    "\n",
    "y_train_cat = to_categorical(y_train_, num_classes=3)\n",
    "y_test_cat = to_categorical(y_test_, num_classes=3)\n",
    "\n",
    "y_train_cat"
   ]
  },
  {
   "cell_type": "code",
   "execution_count": 87,
   "id": "9585d03e-1ef9-43d7-af8c-d4f047bc1b07",
   "metadata": {},
   "outputs": [],
   "source": [
    "from tensorflow.keras.models import Sequential\n",
    "from tensorflow.keras.layers import Embedding, SimpleRNN, Dense\n",
    "\n",
    "model = Sequential()\n",
    "model.add(Embedding(input_dim=len(tokenizer.word_index) + 1, output_dim=128, input_length=max_len))\n",
    "model.add(SimpleRNN(128, return_sequences=False))\n",
    "model.add(Dense(3, activation='softmax'))"
   ]
  },
  {
   "cell_type": "code",
   "execution_count": 88,
   "id": "45a98337-9aa4-48d5-a988-c3c441837630",
   "metadata": {},
   "outputs": [],
   "source": [
    "model.compile(optimizer='adam', loss='categorical_crossentropy', metrics=['accuracy'])\n"
   ]
  },
  {
   "cell_type": "code",
   "execution_count": 89,
   "id": "c63c163a-fdf6-4001-8f19-e684310d66bf",
   "metadata": {},
   "outputs": [
    {
     "name": "stdout",
     "output_type": "stream",
     "text": [
      "Epoch 1/5\n",
      "152/152 [==============================] - 215s 1s/step - loss: 0.9727 - accuracy: 0.6018 - val_loss: 0.7976 - val_accuracy: 0.7434\n",
      "Epoch 2/5\n",
      "152/152 [==============================] - 219s 1s/step - loss: 0.6646 - accuracy: 0.8524 - val_loss: 0.4973 - val_accuracy: 0.8597\n",
      "Epoch 3/5\n",
      "152/152 [==============================] - 219s 1s/step - loss: 0.2953 - accuracy: 0.9123 - val_loss: 0.2176 - val_accuracy: 0.9059\n",
      "Epoch 4/5\n",
      "152/152 [==============================] - 219s 1s/step - loss: 0.1545 - accuracy: 0.9379 - val_loss: 0.1581 - val_accuracy: 0.9323\n",
      "Epoch 5/5\n",
      "152/152 [==============================] - 219s 1s/step - loss: 0.1045 - accuracy: 0.9597 - val_loss: 0.1039 - val_accuracy: 0.9538\n"
     ]
    },
    {
     "data": {
      "text/plain": [
       "<keras.src.callbacks.History at 0x75c2882d68c0>"
      ]
     },
     "execution_count": 89,
     "metadata": {},
     "output_type": "execute_result"
    }
   ],
   "source": [
    "history = model.fit(X_train_pad, y_train_cat, epochs=5, batch_size=32, validation_split=0.2)\n",
    "history"
   ]
  },
  {
   "cell_type": "code",
   "execution_count": 90,
   "id": "2f28f2c7-55e0-4761-942b-fd313bf1b3d5",
   "metadata": {},
   "outputs": [
    {
     "name": "stdout",
     "output_type": "stream",
     "text": [
      "48/48 [==============================] - 6s 117ms/step - loss: 0.0866 - accuracy: 0.9670\n",
      "Test loss: 0.08662749081850052\n",
      "Test accuracy: 0.9669749140739441\n"
     ]
    }
   ],
   "source": [
    "loss, accuracy = model.evaluate(X_test_pad, y_test_cat)\n",
    "\n",
    "print(f'Test loss: {loss}')\n",
    "print(f'Test accuracy: {accuracy}')"
   ]
  },
  {
   "cell_type": "code",
   "execution_count": 91,
   "id": "bcc5de95-0a57-4b13-9717-52cb6b80c578",
   "metadata": {},
   "outputs": [
    {
     "name": "stdout",
     "output_type": "stream",
     "text": [
      "48/48 [==============================] - 6s 118ms/step\n"
     ]
    },
    {
     "data": {
      "text/plain": [
       "array([1, 1, 2, ..., 1, 2, 2])"
      ]
     },
     "execution_count": 91,
     "metadata": {},
     "output_type": "execute_result"
    }
   ],
   "source": [
    "import numpy as np\n",
    "predictions = model.predict(X_test_pad)\n",
    "predicted_labels = np.argmax(predictions, axis=1)\n",
    "predicted_labels"
   ]
  },
  {
   "cell_type": "code",
   "execution_count": 92,
   "id": "54ba4efd-cb31-4c48-a591-f2932c66a02d",
   "metadata": {},
   "outputs": [
    {
     "data": {
      "text/html": [
       "<div>\n",
       "<style scoped>\n",
       "    .dataframe tbody tr th:only-of-type {\n",
       "        vertical-align: middle;\n",
       "    }\n",
       "\n",
       "    .dataframe tbody tr th {\n",
       "        vertical-align: top;\n",
       "    }\n",
       "\n",
       "    .dataframe thead th {\n",
       "        text-align: right;\n",
       "    }\n",
       "</style>\n",
       "<table border=\"1\" class=\"dataframe\">\n",
       "  <thead>\n",
       "    <tr style=\"text-align: right;\">\n",
       "      <th></th>\n",
       "      <th>Actual Labels</th>\n",
       "      <th>Predicted Labels</th>\n",
       "    </tr>\n",
       "  </thead>\n",
       "  <tbody>\n",
       "    <tr>\n",
       "      <th>0</th>\n",
       "      <td>1</td>\n",
       "      <td>1</td>\n",
       "    </tr>\n",
       "    <tr>\n",
       "      <th>1</th>\n",
       "      <td>1</td>\n",
       "      <td>1</td>\n",
       "    </tr>\n",
       "    <tr>\n",
       "      <th>2</th>\n",
       "      <td>2</td>\n",
       "      <td>2</td>\n",
       "    </tr>\n",
       "    <tr>\n",
       "      <th>3</th>\n",
       "      <td>0</td>\n",
       "      <td>0</td>\n",
       "    </tr>\n",
       "    <tr>\n",
       "      <th>4</th>\n",
       "      <td>1</td>\n",
       "      <td>1</td>\n",
       "    </tr>\n",
       "    <tr>\n",
       "      <th>5</th>\n",
       "      <td>2</td>\n",
       "      <td>2</td>\n",
       "    </tr>\n",
       "    <tr>\n",
       "      <th>6</th>\n",
       "      <td>2</td>\n",
       "      <td>2</td>\n",
       "    </tr>\n",
       "    <tr>\n",
       "      <th>7</th>\n",
       "      <td>0</td>\n",
       "      <td>0</td>\n",
       "    </tr>\n",
       "    <tr>\n",
       "      <th>8</th>\n",
       "      <td>2</td>\n",
       "      <td>2</td>\n",
       "    </tr>\n",
       "    <tr>\n",
       "      <th>9</th>\n",
       "      <td>1</td>\n",
       "      <td>1</td>\n",
       "    </tr>\n",
       "    <tr>\n",
       "      <th>10</th>\n",
       "      <td>0</td>\n",
       "      <td>0</td>\n",
       "    </tr>\n",
       "    <tr>\n",
       "      <th>11</th>\n",
       "      <td>0</td>\n",
       "      <td>0</td>\n",
       "    </tr>\n",
       "    <tr>\n",
       "      <th>12</th>\n",
       "      <td>0</td>\n",
       "      <td>0</td>\n",
       "    </tr>\n",
       "    <tr>\n",
       "      <th>13</th>\n",
       "      <td>0</td>\n",
       "      <td>0</td>\n",
       "    </tr>\n",
       "    <tr>\n",
       "      <th>14</th>\n",
       "      <td>1</td>\n",
       "      <td>1</td>\n",
       "    </tr>\n",
       "    <tr>\n",
       "      <th>15</th>\n",
       "      <td>1</td>\n",
       "      <td>1</td>\n",
       "    </tr>\n",
       "    <tr>\n",
       "      <th>16</th>\n",
       "      <td>0</td>\n",
       "      <td>0</td>\n",
       "    </tr>\n",
       "    <tr>\n",
       "      <th>17</th>\n",
       "      <td>2</td>\n",
       "      <td>2</td>\n",
       "    </tr>\n",
       "    <tr>\n",
       "      <th>18</th>\n",
       "      <td>0</td>\n",
       "      <td>0</td>\n",
       "    </tr>\n",
       "    <tr>\n",
       "      <th>19</th>\n",
       "      <td>1</td>\n",
       "      <td>1</td>\n",
       "    </tr>\n",
       "    <tr>\n",
       "      <th>20</th>\n",
       "      <td>2</td>\n",
       "      <td>2</td>\n",
       "    </tr>\n",
       "    <tr>\n",
       "      <th>21</th>\n",
       "      <td>2</td>\n",
       "      <td>2</td>\n",
       "    </tr>\n",
       "    <tr>\n",
       "      <th>22</th>\n",
       "      <td>2</td>\n",
       "      <td>2</td>\n",
       "    </tr>\n",
       "    <tr>\n",
       "      <th>23</th>\n",
       "      <td>0</td>\n",
       "      <td>0</td>\n",
       "    </tr>\n",
       "    <tr>\n",
       "      <th>24</th>\n",
       "      <td>0</td>\n",
       "      <td>0</td>\n",
       "    </tr>\n",
       "    <tr>\n",
       "      <th>25</th>\n",
       "      <td>2</td>\n",
       "      <td>2</td>\n",
       "    </tr>\n",
       "    <tr>\n",
       "      <th>26</th>\n",
       "      <td>0</td>\n",
       "      <td>0</td>\n",
       "    </tr>\n",
       "    <tr>\n",
       "      <th>27</th>\n",
       "      <td>2</td>\n",
       "      <td>2</td>\n",
       "    </tr>\n",
       "    <tr>\n",
       "      <th>28</th>\n",
       "      <td>2</td>\n",
       "      <td>2</td>\n",
       "    </tr>\n",
       "    <tr>\n",
       "      <th>29</th>\n",
       "      <td>0</td>\n",
       "      <td>0</td>\n",
       "    </tr>\n",
       "  </tbody>\n",
       "</table>\n",
       "</div>"
      ],
      "text/plain": [
       "    Actual Labels  Predicted Labels\n",
       "0               1                 1\n",
       "1               1                 1\n",
       "2               2                 2\n",
       "3               0                 0\n",
       "4               1                 1\n",
       "5               2                 2\n",
       "6               2                 2\n",
       "7               0                 0\n",
       "8               2                 2\n",
       "9               1                 1\n",
       "10              0                 0\n",
       "11              0                 0\n",
       "12              0                 0\n",
       "13              0                 0\n",
       "14              1                 1\n",
       "15              1                 1\n",
       "16              0                 0\n",
       "17              2                 2\n",
       "18              0                 0\n",
       "19              1                 1\n",
       "20              2                 2\n",
       "21              2                 2\n",
       "22              2                 2\n",
       "23              0                 0\n",
       "24              0                 0\n",
       "25              2                 2\n",
       "26              0                 0\n",
       "27              2                 2\n",
       "28              2                 2\n",
       "29              0                 0"
      ]
     },
     "execution_count": 92,
     "metadata": {},
     "output_type": "execute_result"
    }
   ],
   "source": [
    "res_df = pd.DataFrame({\n",
    "    'Actual Labels': y_test_,\n",
    "    'Predicted Labels': predicted_labels\n",
    "})\n",
    "\n",
    "res_df[:30]"
   ]
  },
  {
   "cell_type": "code",
   "execution_count": 93,
   "id": "23586b30-080d-4257-bbc0-93ff2a120c1b",
   "metadata": {},
   "outputs": [
    {
     "name": "stdout",
     "output_type": "stream",
     "text": [
      "                precision    recall  f1-score   support\n",
      "\n",
      "  Colon_Cancer       0.98      0.93      0.95       516\n",
      "   Lung_Cancer       1.00      0.99      1.00       436\n",
      "Thyroid_Cancer       0.94      0.98      0.96       562\n",
      "\n",
      "      accuracy                           0.97      1514\n",
      "     macro avg       0.97      0.97      0.97      1514\n",
      "  weighted avg       0.97      0.97      0.97      1514\n",
      "\n"
     ]
    }
   ],
   "source": [
    "from sklearn.metrics import classification_report, confusion_matrix\n",
    "\n",
    "print(classification_report(y_test_, predicted_labels, target_names=label_encoder.classes_))\n"
   ]
  },
  {
   "cell_type": "code",
   "execution_count": 94,
   "id": "729bc21c-9b97-429b-8801-32f717af313b",
   "metadata": {},
   "outputs": [
    {
     "data": {
      "image/png": "[encoded data removed]",
      "text/plain": [
       "<Figure size 800x600 with 2 Axes>"
      ]
     },
     "metadata": {},
     "output_type": "display_data"
    }
   ],
   "source": [
    "import matplotlib.pyplot as plt\n",
    "import seaborn as sns\n",
    "\n",
    "conf_matrix = confusion_matrix(y_test_, predicted_labels)\n",
    "\n",
    "\n",
    "plt.figure(figsize=(8, 6))\n",
    "sns.heatmap(conf_matrix, annot=True, fmt='d', cmap='Blues', \n",
    "            xticklabels=label_encoder.classes_, yticklabels=label_encoder.classes_)\n",
    "plt.xlabel('Predicted Labels')\n",
    "plt.ylabel('True Labels')\n",
    "plt.title('Confusion Matrix')\n",
    "plt.show()"
   ]
  },
  {
   "cell_type": "code",
   "execution_count": 95,
   "id": "e23811d5-f782-42dc-8efd-17e567ba1486",
   "metadata": {},
   "outputs": [
    {
     "data": {
      "text/plain": [
       "keras.src.engine.sequential.Sequential"
      ]
     },
     "execution_count": 95,
     "metadata": {},
     "output_type": "execute_result"
    }
   ],
   "source": [
    "type(model)"
   ]
  },
  {
   "cell_type": "code",
   "execution_count": 97,
   "id": "6414cf36-f8fc-49bc-8a8a-914fcc65f3a4",
   "metadata": {},
   "outputs": [],
   "source": [
    "# Save the model to a file\n",
    "model.save('trained_cancer_text_model_new.keras')\n",
    "\n",
    "import pickle\n",
    "# Save the tokenizer\n",
    "with open('tokenizer.pickle', 'wb') as handle:\n",
    "    pickle.dump(tokenizer, handle, protocol=pickle.HIGHEST_PROTOCOL)"
   ]
  },
  {
   "cell_type": "code",
   "execution_count": null,
   "id": "3b3c6eb3-ebc0-4ef2-8530-8c2d8083e4c8",
   "metadata": {},
   "outputs": [],
   "source": [
    "# from tensorflow.keras.models import load_model\n",
    "# model = load_model('trained_cancer_text_model.keras')      # For SavedModel format\n",
    "# with open('tokenizer.pickle', 'rb') as handle:\n",
    "#     loaded_tokenizer = pickle.load(handle)"
   ]
  },
  {
   "cell_type": "code",
   "execution_count": 98,
   "id": "01becb3b-43b4-4239-8c32-e4de0448eb1d",
   "metadata": {},
   "outputs": [
    {
     "data": {
      "text/html": [
       "<div>\n",
       "<style scoped>\n",
       "    .dataframe tbody tr th:only-of-type {\n",
       "        vertical-align: middle;\n",
       "    }\n",
       "\n",
       "    .dataframe tbody tr th {\n",
       "        vertical-align: top;\n",
       "    }\n",
       "\n",
       "    .dataframe thead th {\n",
       "        text-align: right;\n",
       "    }\n",
       "</style>\n",
       "<table border=\"1\" class=\"dataframe\">\n",
       "  <thead>\n",
       "    <tr style=\"text-align: right;\">\n",
       "      <th></th>\n",
       "      <th>Actual Labels</th>\n",
       "      <th>Predicted Labels</th>\n",
       "      <th>entropy</th>\n",
       "      <th>text</th>\n",
       "    </tr>\n",
       "  </thead>\n",
       "  <tbody>\n",
       "    <tr>\n",
       "      <th>0</th>\n",
       "      <td>1</td>\n",
       "      <td>1</td>\n",
       "      <td>4.6</td>\n",
       "      <td>\"materials and marking with radio-opaque mater...</td>\n",
       "    </tr>\n",
       "    <tr>\n",
       "      <th>1</th>\n",
       "      <td>1</td>\n",
       "      <td>1</td>\n",
       "      <td>4.5</td>\n",
       "      <td>\"Although de Torres et al. demonstrated by usi...</td>\n",
       "    </tr>\n",
       "    <tr>\n",
       "      <th>2</th>\n",
       "      <td>2</td>\n",
       "      <td>2</td>\n",
       "      <td>4.6</td>\n",
       "      <td>range of diseases including malignancies and a...</td>\n",
       "    </tr>\n",
       "    <tr>\n",
       "      <th>3</th>\n",
       "      <td>0</td>\n",
       "      <td>0</td>\n",
       "      <td>4.2</td>\n",
       "      <td>\"  inflammatory pseudotumour has been used to ...</td>\n",
       "    </tr>\n",
       "    <tr>\n",
       "      <th>4</th>\n",
       "      <td>1</td>\n",
       "      <td>1</td>\n",
       "      <td>4.8</td>\n",
       "      <td>\"Former (quit ?1 y) 39 (48%) 30 (48%) 9 (50%) ...</td>\n",
       "    </tr>\n",
       "  </tbody>\n",
       "</table>\n",
       "</div>"
      ],
      "text/plain": [
       "   Actual Labels  Predicted Labels  entropy  \\\n",
       "0              1                 1      4.6   \n",
       "1              1                 1      4.5   \n",
       "2              2                 2      4.6   \n",
       "3              0                 0      4.2   \n",
       "4              1                 1      4.8   \n",
       "\n",
       "                                                text  \n",
       "0  \"materials and marking with radio-opaque mater...  \n",
       "1  \"Although de Torres et al. demonstrated by usi...  \n",
       "2  range of diseases including malignancies and a...  \n",
       "3  \"  inflammatory pseudotumour has been used to ...  \n",
       "4  \"Former (quit ?1 y) 39 (48%) 30 (48%) 9 (50%) ...  "
      ]
     },
     "execution_count": 98,
     "metadata": {},
     "output_type": "execute_result"
    }
   ],
   "source": [
    "res_df['entropy'] = X_test['entropy'].tolist()\n",
    "res_df['text'] = X_test['text'].tolist()\n",
    "res_df.head()"
   ]
  },
  {
   "cell_type": "code",
   "execution_count": 99,
   "id": "01145a90-cc65-48cc-a6c1-201720d97674",
   "metadata": {},
   "outputs": [
    {
     "data": {
      "text/plain": [
       "array([4.6, 4.5, 4.2, 4.8, 4.7, 4.9, 4.3, 4.4, 5. , 4.1, 5.1, 3.8, 4. ])"
      ]
     },
     "execution_count": 99,
     "metadata": {},
     "output_type": "execute_result"
    }
   ],
   "source": [
    "X_test['entropy'].unique()"
   ]
  },
  {
   "cell_type": "code",
   "execution_count": null,
   "id": "26b0c2a7-e5dc-4444-a03d-02d5c21e3711",
   "metadata": {},
   "outputs": [],
   "source": []
  },
  {
   "cell_type": "code",
   "execution_count": 100,
   "id": "5c54834e-1ccf-4911-ad15-68f3751326cd",
   "metadata": {},
   "outputs": [],
   "source": [
    "test_df = res_df.copy()"
   ]
  },
  {
   "cell_type": "code",
   "execution_count": 101,
   "id": "071c023c-9f0d-47de-99fe-fdbc1d12cab9",
   "metadata": {},
   "outputs": [
    {
     "data": {
      "text/html": [
       "<div>\n",
       "<style scoped>\n",
       "    .dataframe tbody tr th:only-of-type {\n",
       "        vertical-align: middle;\n",
       "    }\n",
       "\n",
       "    .dataframe tbody tr th {\n",
       "        vertical-align: top;\n",
       "    }\n",
       "\n",
       "    .dataframe thead th {\n",
       "        text-align: right;\n",
       "    }\n",
       "</style>\n",
       "<table border=\"1\" class=\"dataframe\">\n",
       "  <thead>\n",
       "    <tr style=\"text-align: right;\">\n",
       "      <th></th>\n",
       "      <th>true_label</th>\n",
       "      <th>y_pred_drifted</th>\n",
       "      <th>entropy</th>\n",
       "      <th>text</th>\n",
       "    </tr>\n",
       "  </thead>\n",
       "  <tbody>\n",
       "    <tr>\n",
       "      <th>0</th>\n",
       "      <td>1</td>\n",
       "      <td>1</td>\n",
       "      <td>4.6</td>\n",
       "      <td>\"materials and marking with radio-opaque mater...</td>\n",
       "    </tr>\n",
       "    <tr>\n",
       "      <th>1</th>\n",
       "      <td>1</td>\n",
       "      <td>1</td>\n",
       "      <td>4.5</td>\n",
       "      <td>\"Although de Torres et al. demonstrated by usi...</td>\n",
       "    </tr>\n",
       "    <tr>\n",
       "      <th>2</th>\n",
       "      <td>2</td>\n",
       "      <td>2</td>\n",
       "      <td>4.6</td>\n",
       "      <td>range of diseases including malignancies and a...</td>\n",
       "    </tr>\n",
       "    <tr>\n",
       "      <th>3</th>\n",
       "      <td>0</td>\n",
       "      <td>0</td>\n",
       "      <td>4.2</td>\n",
       "      <td>\"  inflammatory pseudotumour has been used to ...</td>\n",
       "    </tr>\n",
       "    <tr>\n",
       "      <th>4</th>\n",
       "      <td>1</td>\n",
       "      <td>1</td>\n",
       "      <td>4.8</td>\n",
       "      <td>\"Former (quit ?1 y) 39 (48%) 30 (48%) 9 (50%) ...</td>\n",
       "    </tr>\n",
       "  </tbody>\n",
       "</table>\n",
       "</div>"
      ],
      "text/plain": [
       "   true_label  y_pred_drifted  entropy  \\\n",
       "0           1               1      4.6   \n",
       "1           1               1      4.5   \n",
       "2           2               2      4.6   \n",
       "3           0               0      4.2   \n",
       "4           1               1      4.8   \n",
       "\n",
       "                                                text  \n",
       "0  \"materials and marking with radio-opaque mater...  \n",
       "1  \"Although de Torres et al. demonstrated by usi...  \n",
       "2  range of diseases including malignancies and a...  \n",
       "3  \"  inflammatory pseudotumour has been used to ...  \n",
       "4  \"Former (quit ?1 y) 39 (48%) 30 (48%) 9 (50%) ...  "
      ]
     },
     "execution_count": 101,
     "metadata": {},
     "output_type": "execute_result"
    }
   ],
   "source": [
    "test_df = test_df.rename(columns={'Actual Labels': 'true_label', 'Predicted Labels': 'y_pred_drifted'})\n",
    "test_df.head()"
   ]
  },
  {
   "cell_type": "markdown",
   "id": "3036fe91-159d-4239-b129-d2539e7b216d",
   "metadata": {},
   "source": [
    "# graphs "
   ]
  },
  {
   "cell_type": "code",
   "execution_count": null,
   "id": "b3a5b552-3a04-4acb-a05d-c4084e019753",
   "metadata": {},
   "outputs": [],
   "source": []
  },
  {
   "cell_type": "code",
   "execution_count": 102,
   "id": "4ac82a44-bdc7-4131-abea-2b511d283843",
   "metadata": {},
   "outputs": [],
   "source": [
    "from psi import calculate_psi"
   ]
  },
  {
   "cell_type": "code",
   "execution_count": 103,
   "id": "95b55c92-a79c-49d8-84f5-064069ce8757",
   "metadata": {},
   "outputs": [],
   "source": [
    "import numpy as np\n",
    "import pandas as pd\n",
    "num_iterations = 200\n",
    "\n",
    "def get_simulation_input(X_test, X_test_drift, y_pred, y_pred_drift, sample_size = 50):\n",
    "    # Store results for each iteration\n",
    "    X_results = []\n",
    "    y_results = []\n",
    "\n",
    "    df_X = pd.DataFrame(columns=X_test.columns)\n",
    "    arr_y = np.array([])\n",
    "\n",
    "    for i in range(1, num_iterations + 1):\n",
    "        if i <= 100:\n",
    "            # First 100 iterations: Choose from X_test and y_pred\n",
    "            random_indices = np.random.choice(len(y_pred), size=sample_size, replace=False)\n",
    "            X_sample = X_test.iloc[random_indices]\n",
    "            y_sample = y_pred[random_indices]\n",
    "            # print(type(X_sample))\n",
    "            # print(type(y_sample))\n",
    "        elif 101 <= i <= 110:\n",
    "            # Iterations 101-110: Choose from X_test_drift and y_pred_drift\n",
    "            random_indices = np.random.choice(len(y_pred_drift), size=sample_size, replace=False)\n",
    "            X_sample = X_test_drift.iloc[random_indices]\n",
    "            y_sample = y_pred_drift[random_indices]\n",
    "        else:\n",
    "            # Iterations 111-200: Choose from X_test and y_pred\n",
    "            random_indices = np.random.choice(len(y_pred), size=sample_size, replace=False)\n",
    "            X_sample = X_test.iloc[random_indices]\n",
    "            y_sample = y_pred[random_indices]\n",
    "\n",
    "        df_X = pd.concat([df_X, X_sample], ignore_index=True)\n",
    "        arr_y = np.append(arr_y, y_sample)\n",
    "    return df_X, arr_y"
   ]
  },
  {
   "cell_type": "code",
   "execution_count": 104,
   "id": "8587b484-af91-41f6-beb3-8766ae04db5a",
   "metadata": {},
   "outputs": [],
   "source": [
    "from psi import calculate_psi\n",
    "\n",
    "\n",
    "def get_psi_for_simulation_data(arr_y, window_size = 300):\n",
    "    psi_values = []\n",
    "    results = arr_y\n",
    "    # Check if results array has enough data\n",
    "    if len(results) < window_size:\n",
    "        print(\"Not enough data in results for sliding window.\")\n",
    "    else:\n",
    "        # Sliding window loop\n",
    "        for start in range(len(results) - window_size + 1):\n",
    "            # Get the current window\n",
    "            window = results[start:start + window_size]\n",
    "        \n",
    "            # Extract expected and actual values\n",
    "            expected = window[:window_size // 2]  # First half of the window\n",
    "            actual = window[window_size // 2:]   # Second half of the window\n",
    "        \n",
    "            # Debugging: Check sizes\n",
    "            # print(f\"Processing window starting at index {start}\")\n",
    "            # print(f\"Expected size: {len(expected)}, Actual size: {len(actual)}\")\n",
    "        \n",
    "            # Calculate PSI for the current window\n",
    "            psi_value = calculate_psi(expected, actual, buckets=3, axis=0)  # edit\n",
    "            psi_values.append(psi_value)\n",
    "    return psi_values"
   ]
  },
  {
   "cell_type": "code",
   "execution_count": 105,
   "id": "8e669740-c748-4d1b-9adc-1d7458dc406b",
   "metadata": {},
   "outputs": [],
   "source": [
    "import matplotlib.pyplot as plt\n",
    "\n",
    "def plot_psi(psi_values, title):\n",
    "    # Assuming psi_values is already calculated\n",
    "    plt.figure(figsize=(12, 6))\n",
    "    plt.plot(range(len(psi_values)), psi_values, marker='o', linestyle='-', color='b', label='PSI Value')\n",
    "    # plt.title('PSI Values Over Sliding Windows for classification result (y): model drift by data drift', fontsize=16)\n",
    "    plt.title(title, fontsize=16)\n",
    "    plt.xlabel('Sliding Window Index', fontsize=14)\n",
    "    plt.ylabel('PSI Value', fontsize=14)\n",
    "    plt.axhline(y=0.1, color='r', linestyle='--', label='Threshold (0.1)')\n",
    "    plt.legend(fontsize=12)\n",
    "    plt.grid(axis='y', linestyle='--', alpha=0.7)\n",
    "    plt.show()"
   ]
  },
  {
   "cell_type": "code",
   "execution_count": null,
   "id": "7ea2b481-639b-4c4f-ac94-7d74b0e3d3a3",
   "metadata": {},
   "outputs": [],
   "source": []
  },
  {
   "cell_type": "markdown",
   "id": "c5d25ec0-43e3-4e80-927e-589f4b87cabc",
   "metadata": {},
   "source": [
    "# Better drift"
   ]
  },
  {
   "cell_type": "markdown",
   "id": "aeb43f9d-f85d-4112-ab12-aabf0d7986c9",
   "metadata": {},
   "source": [
    "<!-- ### 3 txt normal_output, data_drift, data_quality\n",
    "redistribute\n",
    "combine normal and drift in a df\n",
    "recalculate entropy w integer\n",
    "select normal and drift \n",
    "check psi \n",
    "\n",
    "\n",
    "from y of X data - find label 0, 1, 2 % distr\n",
    "choose data that give y label % that have significant model and data drift psi\n",
    "\n",
    "\n",
    "# data quality\n",
    "reuse the X from drift\n",
    "corrupt\n",
    "load model\n",
    "repredict\n",
    "check psi, corrupt (factor) more as needed -->"
   ]
  },
  {
   "cell_type": "code",
   "execution_count": null,
   "id": "16d15a4e-f474-4f3f-8611-1b00b58ce1d2",
   "metadata": {},
   "outputs": [],
   "source": [
    "# consider 10*entropy"
   ]
  },
  {
   "cell_type": "code",
   "execution_count": 9,
   "id": "7547c377-e20f-4eb0-a6b8-bd9e2d8e4612",
   "metadata": {},
   "outputs": [],
   "source": [
    "# test_df_orig = pd.read_csv(\"normal_output.csv\")\n",
    "# test_df_drift = pd.read_csv(\"data_drift_output.csv\")\n",
    "# # concatenate \n",
    "# # draw distr of the y_pred\n",
    "# # sample the distr"
   ]
  },
  {
   "cell_type": "code",
   "execution_count": 10,
   "id": "0ae6c9f7-701a-4b4a-8b81-601869d5a333",
   "metadata": {},
   "outputs": [
    {
     "data": {
      "text/html": [
       "<div>\n",
       "<style scoped>\n",
       "    .dataframe tbody tr th:only-of-type {\n",
       "        vertical-align: middle;\n",
       "    }\n",
       "\n",
       "    .dataframe tbody tr th {\n",
       "        vertical-align: top;\n",
       "    }\n",
       "\n",
       "    .dataframe thead th {\n",
       "        text-align: right;\n",
       "    }\n",
       "</style>\n",
       "<table border=\"1\" class=\"dataframe\">\n",
       "  <thead>\n",
       "    <tr style=\"text-align: right;\">\n",
       "      <th></th>\n",
       "      <th>Unnamed: 0</th>\n",
       "      <th>true_label</th>\n",
       "      <th>y_pred_drifted</th>\n",
       "      <th>entropy</th>\n",
       "      <th>text</th>\n",
       "    </tr>\n",
       "  </thead>\n",
       "  <tbody>\n",
       "    <tr>\n",
       "      <th>0</th>\n",
       "      <td>0</td>\n",
       "      <td>2</td>\n",
       "      <td>2</td>\n",
       "      <td>4.6</td>\n",
       "      <td>pathogenesis of multiple myeloma MM is not com...</td>\n",
       "    </tr>\n",
       "    <tr>\n",
       "      <th>1</th>\n",
       "      <td>1</td>\n",
       "      <td>2</td>\n",
       "      <td>2</td>\n",
       "      <td>4.6</td>\n",
       "      <td>Exercise influences the impact ofpolychlorina...</td>\n",
       "    </tr>\n",
       "    <tr>\n",
       "      <th>2</th>\n",
       "      <td>2</td>\n",
       "      <td>1</td>\n",
       "      <td>1</td>\n",
       "      <td>4.6</td>\n",
       "      <td>\"Hypertension and renal insufficiency are two ...</td>\n",
       "    </tr>\n",
       "    <tr>\n",
       "      <th>3</th>\n",
       "      <td>3</td>\n",
       "      <td>2</td>\n",
       "      <td>2</td>\n",
       "      <td>4.6</td>\n",
       "      <td>\"assess the antioxidative activity of selenium...</td>\n",
       "    </tr>\n",
       "    <tr>\n",
       "      <th>4</th>\n",
       "      <td>4</td>\n",
       "      <td>1</td>\n",
       "      <td>1</td>\n",
       "      <td>4.6</td>\n",
       "      <td>\"n methylene blue (0.6 vs 1.0 cm P&lt;0.001). MLM...</td>\n",
       "    </tr>\n",
       "  </tbody>\n",
       "</table>\n",
       "</div>"
      ],
      "text/plain": [
       "   Unnamed: 0  true_label  y_pred_drifted  entropy  \\\n",
       "0           0           2               2      4.6   \n",
       "1           1           2               2      4.6   \n",
       "2           2           1               1      4.6   \n",
       "3           3           2               2      4.6   \n",
       "4           4           1               1      4.6   \n",
       "\n",
       "                                                text  \n",
       "0  pathogenesis of multiple myeloma MM is not com...  \n",
       "1   Exercise influences the impact ofpolychlorina...  \n",
       "2  \"Hypertension and renal insufficiency are two ...  \n",
       "3  \"assess the antioxidative activity of selenium...  \n",
       "4  \"n methylene blue (0.6 vs 1.0 cm P<0.001). MLM...  "
      ]
     },
     "execution_count": 10,
     "metadata": {},
     "output_type": "execute_result"
    }
   ],
   "source": [
    "# test_df_orig.head()"
   ]
  },
  {
   "cell_type": "code",
   "execution_count": 11,
   "id": "b8542a35-6a00-43f6-b27e-e3d1b7e8729a",
   "metadata": {},
   "outputs": [
    {
     "data": {
      "text/html": [
       "<div>\n",
       "<style scoped>\n",
       "    .dataframe tbody tr th:only-of-type {\n",
       "        vertical-align: middle;\n",
       "    }\n",
       "\n",
       "    .dataframe tbody tr th {\n",
       "        vertical-align: top;\n",
       "    }\n",
       "\n",
       "    .dataframe thead th {\n",
       "        text-align: right;\n",
       "    }\n",
       "</style>\n",
       "<table border=\"1\" class=\"dataframe\">\n",
       "  <thead>\n",
       "    <tr style=\"text-align: right;\">\n",
       "      <th></th>\n",
       "      <th>Unnamed: 0</th>\n",
       "      <th>true_label</th>\n",
       "      <th>y_pred_drifted</th>\n",
       "      <th>entropy</th>\n",
       "      <th>text</th>\n",
       "    </tr>\n",
       "  </thead>\n",
       "  <tbody>\n",
       "    <tr>\n",
       "      <th>0</th>\n",
       "      <td>0</td>\n",
       "      <td>1</td>\n",
       "      <td>1</td>\n",
       "      <td>4.6</td>\n",
       "      <td>\"materials and marking with radio-opaque mater...</td>\n",
       "    </tr>\n",
       "    <tr>\n",
       "      <th>1</th>\n",
       "      <td>1</td>\n",
       "      <td>2</td>\n",
       "      <td>2</td>\n",
       "      <td>4.6</td>\n",
       "      <td>range of diseases including malignancies and a...</td>\n",
       "    </tr>\n",
       "    <tr>\n",
       "      <th>2</th>\n",
       "      <td>2</td>\n",
       "      <td>1</td>\n",
       "      <td>1</td>\n",
       "      <td>4.6</td>\n",
       "      <td>\"Biochemistry Biomarkers Medicine and Health S...</td>\n",
       "    </tr>\n",
       "    <tr>\n",
       "      <th>3</th>\n",
       "      <td>3</td>\n",
       "      <td>2</td>\n",
       "      <td>2</td>\n",
       "      <td>4.6</td>\n",
       "      <td>progression of breast cancerare greatly affect...</td>\n",
       "    </tr>\n",
       "    <tr>\n",
       "      <th>4</th>\n",
       "      <td>4</td>\n",
       "      <td>2</td>\n",
       "      <td>2</td>\n",
       "      <td>4.6</td>\n",
       "      <td>Creative Commons Attribution License whichperm...</td>\n",
       "    </tr>\n",
       "  </tbody>\n",
       "</table>\n",
       "</div>"
      ],
      "text/plain": [
       "   Unnamed: 0  true_label  y_pred_drifted  entropy  \\\n",
       "0           0           1               1      4.6   \n",
       "1           1           2               2      4.6   \n",
       "2           2           1               1      4.6   \n",
       "3           3           2               2      4.6   \n",
       "4           4           2               2      4.6   \n",
       "\n",
       "                                                text  \n",
       "0  \"materials and marking with radio-opaque mater...  \n",
       "1  range of diseases including malignancies and a...  \n",
       "2  \"Biochemistry Biomarkers Medicine and Health S...  \n",
       "3  progression of breast cancerare greatly affect...  \n",
       "4  Creative Commons Attribution License whichperm...  "
      ]
     },
     "execution_count": 11,
     "metadata": {},
     "output_type": "execute_result"
    }
   ],
   "source": [
    "# test_df_drift.head()"
   ]
  },
  {
   "cell_type": "code",
   "execution_count": 19,
   "id": "9718b49a-bc1e-43a2-846f-d896603c46c2",
   "metadata": {},
   "outputs": [],
   "source": [
    "# test_df = pd.concat([test_df_orig, test_df_drift], axis=0, ignore_index=True)"
   ]
  },
  {
   "cell_type": "markdown",
   "id": "92eababe-8582-4979-866c-7be7ae9f48f4",
   "metadata": {},
   "source": [
    "## continue"
   ]
  },
  {
   "cell_type": "code",
   "execution_count": 106,
   "id": "3cc4a144-34ef-47e3-aeea-0ecfd616e322",
   "metadata": {},
   "outputs": [],
   "source": [
    "test_df['entropy_default'] = test_df['entropy'].copy()  # backup \n",
    "test_df['entropy'] = test_df['entropy'] * 10  # Multiply entropy by 10"
   ]
  },
  {
   "cell_type": "code",
   "execution_count": 107,
   "id": "6854cfea-11d2-41a8-bc75-bcc4fc991474",
   "metadata": {},
   "outputs": [
    {
     "data": {
      "text/html": [
       "<div>\n",
       "<style scoped>\n",
       "    .dataframe tbody tr th:only-of-type {\n",
       "        vertical-align: middle;\n",
       "    }\n",
       "\n",
       "    .dataframe tbody tr th {\n",
       "        vertical-align: top;\n",
       "    }\n",
       "\n",
       "    .dataframe thead th {\n",
       "        text-align: right;\n",
       "    }\n",
       "</style>\n",
       "<table border=\"1\" class=\"dataframe\">\n",
       "  <thead>\n",
       "    <tr style=\"text-align: right;\">\n",
       "      <th></th>\n",
       "      <th>true_label</th>\n",
       "      <th>y_pred_drifted</th>\n",
       "      <th>entropy</th>\n",
       "      <th>text</th>\n",
       "      <th>entropy_default</th>\n",
       "    </tr>\n",
       "  </thead>\n",
       "  <tbody>\n",
       "    <tr>\n",
       "      <th>0</th>\n",
       "      <td>1</td>\n",
       "      <td>1</td>\n",
       "      <td>46.0</td>\n",
       "      <td>\"materials and marking with radio-opaque mater...</td>\n",
       "      <td>4.6</td>\n",
       "    </tr>\n",
       "    <tr>\n",
       "      <th>1</th>\n",
       "      <td>1</td>\n",
       "      <td>1</td>\n",
       "      <td>45.0</td>\n",
       "      <td>\"Although de Torres et al. demonstrated by usi...</td>\n",
       "      <td>4.5</td>\n",
       "    </tr>\n",
       "    <tr>\n",
       "      <th>2</th>\n",
       "      <td>2</td>\n",
       "      <td>2</td>\n",
       "      <td>46.0</td>\n",
       "      <td>range of diseases including malignancies and a...</td>\n",
       "      <td>4.6</td>\n",
       "    </tr>\n",
       "    <tr>\n",
       "      <th>3</th>\n",
       "      <td>0</td>\n",
       "      <td>0</td>\n",
       "      <td>42.0</td>\n",
       "      <td>\"  inflammatory pseudotumour has been used to ...</td>\n",
       "      <td>4.2</td>\n",
       "    </tr>\n",
       "    <tr>\n",
       "      <th>4</th>\n",
       "      <td>1</td>\n",
       "      <td>1</td>\n",
       "      <td>48.0</td>\n",
       "      <td>\"Former (quit ?1 y) 39 (48%) 30 (48%) 9 (50%) ...</td>\n",
       "      <td>4.8</td>\n",
       "    </tr>\n",
       "  </tbody>\n",
       "</table>\n",
       "</div>"
      ],
      "text/plain": [
       "   true_label  y_pred_drifted  entropy  \\\n",
       "0           1               1     46.0   \n",
       "1           1               1     45.0   \n",
       "2           2               2     46.0   \n",
       "3           0               0     42.0   \n",
       "4           1               1     48.0   \n",
       "\n",
       "                                                text  entropy_default  \n",
       "0  \"materials and marking with radio-opaque mater...              4.6  \n",
       "1  \"Although de Torres et al. demonstrated by usi...              4.5  \n",
       "2  range of diseases including malignancies and a...              4.6  \n",
       "3  \"  inflammatory pseudotumour has been used to ...              4.2  \n",
       "4  \"Former (quit ?1 y) 39 (48%) 30 (48%) 9 (50%) ...              4.8  "
      ]
     },
     "execution_count": 107,
     "metadata": {},
     "output_type": "execute_result"
    }
   ],
   "source": [
    "test_df.head()"
   ]
  },
  {
   "cell_type": "code",
   "execution_count": null,
   "id": "c0820e9f-a1bf-4752-af2e-e53ca3c64846",
   "metadata": {},
   "outputs": [],
   "source": []
  },
  {
   "cell_type": "code",
   "execution_count": 108,
   "id": "d64ebc49-f56b-41a8-829d-f4e978f64985",
   "metadata": {},
   "outputs": [
    {
     "data": {
      "image/png": "[encoded data removed]",
      "text/plain": [
       "<Figure size 1000x600 with 1 Axes>"
      ]
     },
     "metadata": {},
     "output_type": "display_data"
    }
   ],
   "source": [
    "import matplotlib.pyplot as plt\n",
    "import seaborn as sns\n",
    "\n",
    "# Plot the distribution of y pred\n",
    "plt.figure(figsize=(10, 6))\n",
    "ax = sns.histplot(test_df['y_pred_drifted'], kde=True, color='blue', alpha=0.7)\n",
    "\n",
    "# Annotate each bar with its height\n",
    "for patch in ax.patches:\n",
    "    height = patch.get_height()\n",
    "    if height > 0:  # Only annotate bars with a height greater than 0\n",
    "        ax.annotate(f'{int(height)}', \n",
    "                    (patch.get_x() + patch.get_width() / 2, height), \n",
    "                    ha='center', va='bottom', fontsize=10, color='black')\n",
    "\n",
    "plt.title('Distribution of y pred', fontsize=16)\n",
    "plt.xlabel('Y-pred', fontsize=14)\n",
    "plt.ylabel('Frequency', fontsize=14)\n",
    "plt.grid(axis='y', linestyle='--', alpha=0.7)\n",
    "plt.show()"
   ]
  },
  {
   "cell_type": "code",
   "execution_count": 109,
   "id": "4b2911c2-6c95-44c0-a9ac-285853f6f056",
   "metadata": {},
   "outputs": [
    {
     "data": {
      "image/png": "[encoded data removed]",
      "text/plain": [
       "<Figure size 1000x600 with 1 Axes>"
      ]
     },
     "metadata": {},
     "output_type": "display_data"
    }
   ],
   "source": [
    "# Plot the distribution of 'entropy'\n",
    "plt.figure(figsize=(10, 6))\n",
    "ax = sns.histplot(test_df['entropy'], kde=True, color='blue', alpha=0.7, bins=[35, 40, 45, 50, 55], binrange=(30, 55))\n",
    "\n",
    "# Annotate each bar with its height\n",
    "for patch in ax.patches:\n",
    "    height = patch.get_height()\n",
    "    if height > 0:  # Only annotate bars with a height greater than 0\n",
    "        ax.annotate(f'{int(height)}', \n",
    "                    (patch.get_x() + patch.get_width() / 2, height), \n",
    "                    ha='center', va='bottom', fontsize=10, color='black')\n",
    "\n",
    "plt.title('Distribution of X_test[\\'entropy\\']', fontsize=16)\n",
    "plt.xlabel('Entropy', fontsize=14)\n",
    "plt.ylabel('Frequency', fontsize=14)\n",
    "plt.grid(axis='y', linestyle='--', alpha=0.7)\n",
    "plt.show()"
   ]
  },
  {
   "cell_type": "code",
   "execution_count": 110,
   "id": "cbd20973-a9f5-4096-a45d-dd2fc0cb6ea0",
   "metadata": {},
   "outputs": [],
   "source": [
    "# First filter by entropy to exclude 45-50 range from filtered samples\n",
    "eligible_indices = test_df[\n",
    "    (test_df['entropy'] < 45) | (test_df['entropy'] >= 50)\n",
    "].index\n",
    "\n",
    "# Get indices for each class from eligible rows only\n",
    "class_0_indices = test_df[\n",
    "    (test_df.index.isin(eligible_indices)) & \n",
    "    (test_df['y_pred_drifted'] == 0)\n",
    "].index\n",
    "class_1_indices = test_df[\n",
    "    (test_df.index.isin(eligible_indices)) & \n",
    "    (test_df['y_pred_drifted'] == 1)\n",
    "].index\n",
    "class_2_indices = test_df[\n",
    "    (test_df.index.isin(eligible_indices)) & \n",
    "    (test_df['y_pred_drifted'] == 2)\n",
    "].index\n",
    "\n",
    "# Create filtered_samples (193) with mostly class 0, excluding entropy 45-50\n",
    "filtered_indices = np.concatenate([\n",
    "    np.random.choice(class_0_indices, size=150, replace=False),  # Majority class 0\n",
    "    np.random.choice(class_1_indices, size=23, replace=False),   # Few class 1\n",
    "    np.random.choice(class_2_indices, size=20, replace=False)    # Few class 2\n",
    "])\n",
    "\n",
    "# Create filtered samples DataFrame\n",
    "filtered_samples = test_df.loc[filtered_indices].copy().reset_index(drop=True)\n",
    "\n",
    "# Get remaining samples as complement\n",
    "remaining_samples = test_df.loc[~test_df.index.isin(filtered_indices)].copy().reset_index(drop=True)"
   ]
  },
  {
   "cell_type": "code",
   "execution_count": 111,
   "id": "c1641d6c-b575-4a50-b98b-04654657668e",
   "metadata": {},
   "outputs": [
    {
     "data": {
      "text/html": [
       "<div>\n",
       "<style scoped>\n",
       "    .dataframe tbody tr th:only-of-type {\n",
       "        vertical-align: middle;\n",
       "    }\n",
       "\n",
       "    .dataframe tbody tr th {\n",
       "        vertical-align: top;\n",
       "    }\n",
       "\n",
       "    .dataframe thead th {\n",
       "        text-align: right;\n",
       "    }\n",
       "</style>\n",
       "<table border=\"1\" class=\"dataframe\">\n",
       "  <thead>\n",
       "    <tr style=\"text-align: right;\">\n",
       "      <th></th>\n",
       "      <th>true_label</th>\n",
       "      <th>y_pred_drifted</th>\n",
       "      <th>entropy</th>\n",
       "      <th>text</th>\n",
       "      <th>entropy_default</th>\n",
       "    </tr>\n",
       "  </thead>\n",
       "  <tbody>\n",
       "    <tr>\n",
       "      <th>0</th>\n",
       "      <td>0</td>\n",
       "      <td>0</td>\n",
       "      <td>44.0</td>\n",
       "      <td>s  studies were published in a language othert...</td>\n",
       "      <td>4.4</td>\n",
       "    </tr>\n",
       "    <tr>\n",
       "      <th>1</th>\n",
       "      <td>0</td>\n",
       "      <td>0</td>\n",
       "      <td>40.0</td>\n",
       "      <td>previous studies have shown a strong coexiste...</td>\n",
       "      <td>4.0</td>\n",
       "    </tr>\n",
       "    <tr>\n",
       "      <th>2</th>\n",
       "      <td>0</td>\n",
       "      <td>0</td>\n",
       "      <td>43.0</td>\n",
       "      <td>\" colorectal cancer crc is the third leading c...</td>\n",
       "      <td>4.3</td>\n",
       "    </tr>\n",
       "    <tr>\n",
       "      <th>3</th>\n",
       "      <td>0</td>\n",
       "      <td>0</td>\n",
       "      <td>43.0</td>\n",
       "      <td>\"  vibrio cholerae are oxidasepositive bacteri...</td>\n",
       "      <td>4.3</td>\n",
       "    </tr>\n",
       "    <tr>\n",
       "      <th>4</th>\n",
       "      <td>0</td>\n",
       "      <td>0</td>\n",
       "      <td>44.0</td>\n",
       "      <td>to the human gut microbiota biochem taxonomic...</td>\n",
       "      <td>4.4</td>\n",
       "    </tr>\n",
       "  </tbody>\n",
       "</table>\n",
       "</div>"
      ],
      "text/plain": [
       "   true_label  y_pred_drifted  entropy  \\\n",
       "0           0               0     44.0   \n",
       "1           0               0     40.0   \n",
       "2           0               0     43.0   \n",
       "3           0               0     43.0   \n",
       "4           0               0     44.0   \n",
       "\n",
       "                                                text  entropy_default  \n",
       "0  s  studies were published in a language othert...              4.4  \n",
       "1   previous studies have shown a strong coexiste...              4.0  \n",
       "2  \" colorectal cancer crc is the third leading c...              4.3  \n",
       "3  \"  vibrio cholerae are oxidasepositive bacteri...              4.3  \n",
       "4   to the human gut microbiota biochem taxonomic...              4.4  "
      ]
     },
     "execution_count": 111,
     "metadata": {},
     "output_type": "execute_result"
    }
   ],
   "source": [
    "filtered_samples.head()"
   ]
  },
  {
   "cell_type": "code",
   "execution_count": 139,
   "id": "990e2cd7-89f0-4939-9151-0dcc0b1932ec",
   "metadata": {},
   "outputs": [
    {
     "name": "stdout",
     "output_type": "stream",
     "text": [
      "Original y_pred distribution:\n",
      " y_pred_drifted\n",
      "0    0.777202\n",
      "1    0.119171\n",
      "2    0.103627\n",
      "Name: proportion, dtype: float64\n"
     ]
    }
   ],
   "source": [
    "print(\"Original y_pred distribution:\\n\", pd.Series(filtered_samples['y_pred_drifted']).value_counts(normalize=True))"
   ]
  },
  {
   "cell_type": "code",
   "execution_count": 140,
   "id": "8a608e07-73a9-47fd-a0bb-68f248311bba",
   "metadata": {},
   "outputs": [
    {
     "name": "stdout",
     "output_type": "stream",
     "text": [
      "Original entropy distribution:\n",
      " entropy\n",
      "43.0    0.321244\n",
      "42.0    0.284974\n",
      "44.0    0.227979\n",
      "50.0    0.103627\n",
      "41.0    0.031088\n",
      "40.0    0.020725\n",
      "38.0    0.005181\n",
      "51.0    0.005181\n",
      "Name: proportion, dtype: float64\n"
     ]
    }
   ],
   "source": [
    "print(\"Original entropy distribution:\\n\", pd.Series(filtered_samples['entropy']).value_counts(normalize=True))"
   ]
  },
  {
   "cell_type": "code",
   "execution_count": 143,
   "id": "30adba76-a602-4dcd-b600-39a3be3af449",
   "metadata": {},
   "outputs": [
    {
     "data": {
      "image/png": "[encoded data removed]",
      "text/plain": [
       "<Figure size 1000x600 with 1 Axes>"
      ]
     },
     "metadata": {},
     "output_type": "display_data"
    }
   ],
   "source": [
    "# Plot the distribution of y pred\n",
    "plt.figure(figsize=(10, 6))\n",
    "ax = sns.histplot(filtered_samples['y_pred_drifted'], kde=True, color='blue', alpha=0.7)\n",
    "\n",
    "# Annotate each bar with its height\n",
    "for patch in ax.patches:\n",
    "    height = patch.get_height()\n",
    "    if height > 0:  # Only annotate bars with a height greater than 0\n",
    "        ax.annotate(f'{int(height)}', \n",
    "                    (patch.get_x() + patch.get_width() / 2, height), \n",
    "                    ha='center', va='bottom', fontsize=10, color='black')\n",
    "\n",
    "plt.title('Distribution of y pred', fontsize=16)\n",
    "plt.xlabel('Y-pred', fontsize=14)\n",
    "plt.ylabel('Frequency', fontsize=14)\n",
    "plt.grid(axis='y', linestyle='--', alpha=0.7)\n",
    "plt.show()"
   ]
  },
  {
   "cell_type": "code",
   "execution_count": 141,
   "id": "7d0dee6a-c5e9-4676-9404-24ba729994e9",
   "metadata": {},
   "outputs": [
    {
     "data": {
      "image/png": "[encoded data removed]",
      "text/plain": [
       "<Figure size 1000x600 with 1 Axes>"
      ]
     },
     "metadata": {},
     "output_type": "display_data"
    }
   ],
   "source": [
    "# Plot the distribution of 'entropy'\n",
    "plt.figure(figsize=(10, 6))\n",
    "ax = sns.histplot(filtered_samples['entropy'], kde=True, color='blue', alpha=0.7, bins=[35, 40, 45, 50, 55], binrange=(30, 55))\n",
    "\n",
    "# Annotate each bar with its height\n",
    "for patch in ax.patches:\n",
    "    height = patch.get_height()\n",
    "    if height > 0:  # Only annotate bars with a height greater than 0\n",
    "        ax.annotate(f'{int(height)}', \n",
    "                    (patch.get_x() + patch.get_width() / 2, height), \n",
    "                    ha='center', va='bottom', fontsize=10, color='black')\n",
    "\n",
    "plt.title('Distribution of X_test[\\'entropy\\']', fontsize=16)\n",
    "plt.xlabel('Entropy', fontsize=14)\n",
    "plt.ylabel('Frequency', fontsize=14)\n",
    "plt.grid(axis='y', linestyle='--', alpha=0.7)\n",
    "plt.show()"
   ]
  },
  {
   "cell_type": "code",
   "execution_count": null,
   "id": "ea9e4a3d-05ea-4130-8257-961a667d18c5",
   "metadata": {},
   "outputs": [],
   "source": []
  },
  {
   "cell_type": "code",
   "execution_count": 112,
   "id": "c9322214-2c14-4443-936c-ff32d6d2fe05",
   "metadata": {},
   "outputs": [
    {
     "data": {
      "text/html": [
       "<div>\n",
       "<style scoped>\n",
       "    .dataframe tbody tr th:only-of-type {\n",
       "        vertical-align: middle;\n",
       "    }\n",
       "\n",
       "    .dataframe tbody tr th {\n",
       "        vertical-align: top;\n",
       "    }\n",
       "\n",
       "    .dataframe thead th {\n",
       "        text-align: right;\n",
       "    }\n",
       "</style>\n",
       "<table border=\"1\" class=\"dataframe\">\n",
       "  <thead>\n",
       "    <tr style=\"text-align: right;\">\n",
       "      <th></th>\n",
       "      <th>true_label</th>\n",
       "      <th>y_pred_drifted</th>\n",
       "      <th>entropy</th>\n",
       "      <th>text</th>\n",
       "      <th>entropy_default</th>\n",
       "    </tr>\n",
       "  </thead>\n",
       "  <tbody>\n",
       "    <tr>\n",
       "      <th>0</th>\n",
       "      <td>1</td>\n",
       "      <td>1</td>\n",
       "      <td>46.0</td>\n",
       "      <td>\"materials and marking with radio-opaque mater...</td>\n",
       "      <td>4.6</td>\n",
       "    </tr>\n",
       "    <tr>\n",
       "      <th>1</th>\n",
       "      <td>1</td>\n",
       "      <td>1</td>\n",
       "      <td>45.0</td>\n",
       "      <td>\"Although de Torres et al. demonstrated by usi...</td>\n",
       "      <td>4.5</td>\n",
       "    </tr>\n",
       "    <tr>\n",
       "      <th>2</th>\n",
       "      <td>2</td>\n",
       "      <td>2</td>\n",
       "      <td>46.0</td>\n",
       "      <td>range of diseases including malignancies and a...</td>\n",
       "      <td>4.6</td>\n",
       "    </tr>\n",
       "    <tr>\n",
       "      <th>3</th>\n",
       "      <td>1</td>\n",
       "      <td>1</td>\n",
       "      <td>48.0</td>\n",
       "      <td>\"Former (quit ?1 y) 39 (48%) 30 (48%) 9 (50%) ...</td>\n",
       "      <td>4.8</td>\n",
       "    </tr>\n",
       "    <tr>\n",
       "      <th>4</th>\n",
       "      <td>2</td>\n",
       "      <td>2</td>\n",
       "      <td>45.0</td>\n",
       "      <td>Rheumatoid arthritis RA is a systemic chronic...</td>\n",
       "      <td>4.5</td>\n",
       "    </tr>\n",
       "  </tbody>\n",
       "</table>\n",
       "</div>"
      ],
      "text/plain": [
       "   true_label  y_pred_drifted  entropy  \\\n",
       "0           1               1     46.0   \n",
       "1           1               1     45.0   \n",
       "2           2               2     46.0   \n",
       "3           1               1     48.0   \n",
       "4           2               2     45.0   \n",
       "\n",
       "                                                text  entropy_default  \n",
       "0  \"materials and marking with radio-opaque mater...              4.6  \n",
       "1  \"Although de Torres et al. demonstrated by usi...              4.5  \n",
       "2  range of diseases including malignancies and a...              4.6  \n",
       "3  \"Former (quit ?1 y) 39 (48%) 30 (48%) 9 (50%) ...              4.8  \n",
       "4   Rheumatoid arthritis RA is a systemic chronic...              4.5  "
      ]
     },
     "execution_count": 112,
     "metadata": {},
     "output_type": "execute_result"
    }
   ],
   "source": [
    "remaining_samples.head()"
   ]
  },
  {
   "cell_type": "code",
   "execution_count": null,
   "id": "015303c8-7c81-4719-a0d1-5873a5b9100c",
   "metadata": {},
   "outputs": [],
   "source": []
  },
  {
   "cell_type": "code",
   "execution_count": 113,
   "id": "82e42652-7814-4acb-891a-52eb1143c112",
   "metadata": {},
   "outputs": [
    {
     "data": {
      "text/plain": [
       "1.2192748563312343"
      ]
     },
     "execution_count": 113,
     "metadata": {},
     "output_type": "execute_result"
    }
   ],
   "source": [
    "calculate_psi(filtered_samples['y_pred_drifted'], remaining_samples['y_pred_drifted'], buckets=3, axis=1)"
   ]
  },
  {
   "cell_type": "code",
   "execution_count": 114,
   "id": "4d5cfe79-43a9-4c8e-b6d8-572853454e2c",
   "metadata": {},
   "outputs": [
    {
     "data": {
      "text/plain": [
       "4.850747552855166"
      ]
     },
     "execution_count": 114,
     "metadata": {},
     "output_type": "execute_result"
    }
   ],
   "source": [
    "calculate_psi(filtered_samples['entropy'], remaining_samples['entropy'], buckets=4, axis=1)"
   ]
  },
  {
   "cell_type": "code",
   "execution_count": 115,
   "id": "6f6029f8-7425-49a1-9356-2f06b690c48d",
   "metadata": {},
   "outputs": [],
   "source": [
    "def get_psi_for_simulation_data(arr_y, window_size = 300):\n",
    "    psi_values = []\n",
    "    results = arr_y\n",
    "    # Check if results array has enough data\n",
    "    if len(results) < window_size:\n",
    "        print(\"Not enough data in results for sliding window.\")\n",
    "    else:\n",
    "        # Sliding window loop\n",
    "        for start in range(len(results) - window_size + 1):\n",
    "            # Get the current window\n",
    "            window = results[start:start + window_size]\n",
    "        \n",
    "            # Extract expected and actual values\n",
    "            expected = window[:window_size // 2]  # First half of the window\n",
    "            actual = window[window_size // 2:]   # Second half of the window\n",
    "        \n",
    "            # Debugging: Check sizes\n",
    "            # print(f\"Processing window starting at index {start}\")\n",
    "            # print(f\"Expected size: {len(expected)}, Actual size: {len(actual)}\")\n",
    "        \n",
    "            # Calculate PSI for the current window\n",
    "            psi_value = calculate_psi(expected, actual, buckets=3, axis=0)  # edit\n",
    "            psi_values.append(psi_value)\n",
    "    return psi_values"
   ]
  },
  {
   "cell_type": "code",
   "execution_count": 116,
   "id": "beb486d4-ba14-41d5-bcad-70f3695cee04",
   "metadata": {},
   "outputs": [
    {
     "name": "stderr",
     "output_type": "stream",
     "text": [
      "/tmp/ipykernel_253049/3595005488.py:32: FutureWarning: The behavior of DataFrame concatenation with empty or all-NA entries is deprecated. In a future version, this will no longer exclude empty or all-NA columns when determining the result dtypes. To retain the old behavior, exclude the relevant entries before the concat operation.\n",
      "  df_X = pd.concat([df_X, X_sample], ignore_index=True)\n"
     ]
    },
    {
     "data": {
      "image/png": "[encoded data removed]",
      "text/plain": [
       "<Figure size 1200x600 with 1 Axes>"
      ]
     },
     "metadata": {},
     "output_type": "display_data"
    }
   ],
   "source": [
    "df_X, arr_y =  get_simulation_input(filtered_samples, remaining_samples, filtered_samples['y_pred_drifted'], remaining_samples['y_pred_drifted'], sample_size = 50)\n",
    "psi_values = get_psi_for_simulation_data(arr_y, window_size = 300)\n",
    "title='PSI Values Over Sliding Windows for classification result (y): model drift by data drift'\n",
    "plot_psi(psi_values, title)"
   ]
  },
  {
   "cell_type": "code",
   "execution_count": 117,
   "id": "d0ced7d1-e91d-4f28-af6c-b62df70c3b70",
   "metadata": {},
   "outputs": [],
   "source": [
    "def get_psi_for_simulation_data(arr_y, window_size = 300):\n",
    "    psi_values = []\n",
    "    results = arr_y\n",
    "    # Check if results array has enough data\n",
    "    if len(results) < window_size:\n",
    "        print(\"Not enough data in results for sliding window.\")\n",
    "    else:\n",
    "        # Sliding window loop\n",
    "        for start in range(len(results) - window_size + 1):\n",
    "            # Get the current window\n",
    "            window = results[start:start + window_size]\n",
    "        \n",
    "            # Extract expected and actual values\n",
    "            expected = window[:window_size // 2]  # First half of the window\n",
    "            actual = window[window_size // 2:]   # Second half of the window\n",
    "        \n",
    "            # Debugging: Check sizes\n",
    "            # print(f\"Processing window starting at index {start}\")\n",
    "            # print(f\"Expected size: {len(expected)}, Actual size: {len(actual)}\")\n",
    "        \n",
    "            # Calculate PSI for the current window\n",
    "            psi_value = calculate_psi(expected, actual, buckets=4, axis=0)  # edit\n",
    "            psi_values.append(psi_value)\n",
    "    return psi_values"
   ]
  },
  {
   "cell_type": "code",
   "execution_count": 118,
   "id": "a9a1f6a4-df3a-42c5-a577-7e4b4c2e59dd",
   "metadata": {},
   "outputs": [
    {
     "data": {
      "image/png": "[encoded data removed]",
      "text/plain": [
       "<Figure size 1200x600 with 1 Axes>"
      ]
     },
     "metadata": {},
     "output_type": "display_data"
    }
   ],
   "source": [
    "results = df_X['entropy']\n",
    "psi_values = get_psi_for_simulation_data(results, window_size = 300)\n",
    "title='PSI Values Over Sliding Windows for X[entropy]: input data drift'\n",
    "plot_psi(psi_values, title)"
   ]
  },
  {
   "cell_type": "code",
   "execution_count": null,
   "id": "863f9429-f871-4b07-89b2-6ebc3e1e46eb",
   "metadata": {},
   "outputs": [],
   "source": []
  },
  {
   "cell_type": "code",
   "execution_count": 119,
   "id": "f1e6d54a-17ac-40a5-a485-78712af5f677",
   "metadata": {},
   "outputs": [],
   "source": [
    "test_results = filtered_samples.copy()\n",
    "test_results.head()\n",
    "test_results.to_csv(\"output/cancer-redo/normal_output.csv\")"
   ]
  },
  {
   "cell_type": "code",
   "execution_count": 120,
   "id": "f47d76eb-75b1-49b9-b2a5-cf4e4e09aaf8",
   "metadata": {},
   "outputs": [],
   "source": [
    "test_results = remaining_samples.copy()\n",
    "test_results.head()\n",
    "test_results.to_csv(\"output/cancer-redo/data_drift_output.csv\")"
   ]
  },
  {
   "cell_type": "code",
   "execution_count": null,
   "id": "bfd16e25-3efc-49b0-8ae0-702a968641c7",
   "metadata": {},
   "outputs": [],
   "source": []
  },
  {
   "cell_type": "code",
   "execution_count": 121,
   "id": "2fd4a129-80a3-41eb-8391-13e6d1d8d3d2",
   "metadata": {},
   "outputs": [],
   "source": [
    "import random "
   ]
  },
  {
   "cell_type": "code",
   "execution_count": 122,
   "id": "bda78ec6-a2bb-4745-bcf0-f55c5b688b15",
   "metadata": {},
   "outputs": [
    {
     "data": {
      "text/html": [
       "<div>\n",
       "<style scoped>\n",
       "    .dataframe tbody tr th:only-of-type {\n",
       "        vertical-align: middle;\n",
       "    }\n",
       "\n",
       "    .dataframe tbody tr th {\n",
       "        vertical-align: top;\n",
       "    }\n",
       "\n",
       "    .dataframe thead th {\n",
       "        text-align: right;\n",
       "    }\n",
       "</style>\n",
       "<table border=\"1\" class=\"dataframe\">\n",
       "  <thead>\n",
       "    <tr style=\"text-align: right;\">\n",
       "      <th></th>\n",
       "      <th>true_label</th>\n",
       "      <th>y_pred_drifted</th>\n",
       "      <th>entropy</th>\n",
       "      <th>text</th>\n",
       "      <th>entropy_default</th>\n",
       "      <th>corrupted_text</th>\n",
       "    </tr>\n",
       "  </thead>\n",
       "  <tbody>\n",
       "    <tr>\n",
       "      <th>0</th>\n",
       "      <td>1</td>\n",
       "      <td>1</td>\n",
       "      <td>46.0</td>\n",
       "      <td>\"materials and marking with radio-opaque mater...</td>\n",
       "      <td>4.6</td>\n",
       "      <td>\"materials a&amp;!#!#&amp;!$$$@@nd m&amp;arking $***^with ...</td>\n",
       "    </tr>\n",
       "    <tr>\n",
       "      <th>1</th>\n",
       "      <td>1</td>\n",
       "      <td>1</td>\n",
       "      <td>45.0</td>\n",
       "      <td>\"Although de Torres et al. demonstrated by usi...</td>\n",
       "      <td>4.5</td>\n",
       "      <td>\"Although de Torres et%$^ a$@%^#l. demonstr&amp;%@...</td>\n",
       "    </tr>\n",
       "    <tr>\n",
       "      <th>2</th>\n",
       "      <td>2</td>\n",
       "      <td>2</td>\n",
       "      <td>46.0</td>\n",
       "      <td>range of diseases including malignancies and a...</td>\n",
       "      <td>4.6</td>\n",
       "      <td>%!$range of di^!se!@@#a^ses incl&amp;%uding *malig...</td>\n",
       "    </tr>\n",
       "    <tr>\n",
       "      <th>3</th>\n",
       "      <td>1</td>\n",
       "      <td>1</td>\n",
       "      <td>48.0</td>\n",
       "      <td>\"Former (quit ?1 y) 39 (48%) 30 (48%) 9 (50%) ...</td>\n",
       "      <td>4.8</td>\n",
       "      <td>^$\"Former (qui*&amp;!@*%%t ?1 y#) 39 (48&amp;%) 30 ^#$...</td>\n",
       "    </tr>\n",
       "    <tr>\n",
       "      <th>4</th>\n",
       "      <td>2</td>\n",
       "      <td>2</td>\n",
       "      <td>45.0</td>\n",
       "      <td>Rheumatoid arthritis RA is a systemic chronic...</td>\n",
       "      <td>4.5</td>\n",
       "      <td>Rheumato$#id arthr%itis RA &amp;%$&amp;#is a s*!!y!*$...</td>\n",
       "    </tr>\n",
       "  </tbody>\n",
       "</table>\n",
       "</div>"
      ],
      "text/plain": [
       "   true_label  y_pred_drifted  entropy  \\\n",
       "0           1               1     46.0   \n",
       "1           1               1     45.0   \n",
       "2           2               2     46.0   \n",
       "3           1               1     48.0   \n",
       "4           2               2     45.0   \n",
       "\n",
       "                                                text  entropy_default  \\\n",
       "0  \"materials and marking with radio-opaque mater...              4.6   \n",
       "1  \"Although de Torres et al. demonstrated by usi...              4.5   \n",
       "2  range of diseases including malignancies and a...              4.6   \n",
       "3  \"Former (quit ?1 y) 39 (48%) 30 (48%) 9 (50%) ...              4.8   \n",
       "4   Rheumatoid arthritis RA is a systemic chronic...              4.5   \n",
       "\n",
       "                                      corrupted_text  \n",
       "0  \"materials a&!#!#&!$$$@@nd m&arking $***^with ...  \n",
       "1  \"Although de Torres et%$^ a$@%^#l. demonstr&%@...  \n",
       "2  %!$range of di^!se!@@#a^ses incl&%uding *malig...  \n",
       "3  ^$\"Former (qui*&!@*%%t ?1 y#) 39 (48&%) 30 ^#$...  \n",
       "4   Rheumato$#id arthr%itis RA &%$&#is a s*!!y!*$...  "
      ]
     },
     "execution_count": 122,
     "metadata": {},
     "output_type": "execute_result"
    }
   ],
   "source": [
    "# List of symbol characters\n",
    "symbols = list(\"!@#$%^&*\")\n",
    "\n",
    "def corrupt_text_with_strings(text, symbols, corruption_rate=0.2, max_string_length=5):\n",
    "    \"\"\"\n",
    "    Corrupts the text by randomly inserting strings of symbols.\n",
    "\n",
    "    Parameters:\n",
    "    - text: Original text string.\n",
    "    - symbols: List of symbols to insert.\n",
    "    - corruption_rate: Fraction of text length to corrupt.\n",
    "    - max_string_length: Maximum length of the symbol string to insert.\n",
    "\n",
    "    Returns:\n",
    "    - Corrupted text string.\n",
    "    \"\"\"\n",
    "    text_list = list(text)\n",
    "    num_corruptions = max(1, int(len(text_list) * corruption_rate))\n",
    "\n",
    "    for _ in range(num_corruptions):\n",
    "        pos = random.randint(0, len(text_list))  # Random position\n",
    "        symbol_string = ''.join(random.choices(symbols, k=random.randint(1, max_string_length)))  # Random string\n",
    "        text_list.insert(pos, symbol_string)  # Insert symbol string\n",
    "\n",
    "    return ''.join(text_list)\n",
    "\n",
    "# Apply corruption to the 'text' column\n",
    "remaining_samples['corrupted_text'] = remaining_samples['text'].apply(lambda x: corrupt_text_with_strings(x, symbols))\n",
    "\n",
    "remaining_samples.head()"
   ]
  },
  {
   "cell_type": "code",
   "execution_count": 123,
   "id": "f512f0d1-224e-42fa-80b1-e4c3973f9a1c",
   "metadata": {},
   "outputs": [],
   "source": [
    "import pandas as pd\n",
    "import numpy as np\n",
    "from collections import Counter\n",
    "\n",
    "def calculate_entropy(text):\n",
    "    # Tokenize the text into characters\n",
    "    tokens = list(text)\n",
    "    # Count the frequency of each token\n",
    "    token_counts = Counter(tokens)\n",
    "    # Calculate probabilities\n",
    "    total_count = sum(token_counts.values())\n",
    "    probabilities = [count / total_count for count in token_counts.values()]\n",
    "    # Compute entropy\n",
    "    entropy = -sum(p * np.log2(p) for p in probabilities)\n",
    "    return entropy"
   ]
  },
  {
   "cell_type": "code",
   "execution_count": 124,
   "id": "6007d309-505f-4cca-ae2a-2f47c921c4ea",
   "metadata": {},
   "outputs": [
    {
     "data": {
      "text/html": [
       "<div>\n",
       "<style scoped>\n",
       "    .dataframe tbody tr th:only-of-type {\n",
       "        vertical-align: middle;\n",
       "    }\n",
       "\n",
       "    .dataframe tbody tr th {\n",
       "        vertical-align: top;\n",
       "    }\n",
       "\n",
       "    .dataframe thead th {\n",
       "        text-align: right;\n",
       "    }\n",
       "</style>\n",
       "<table border=\"1\" class=\"dataframe\">\n",
       "  <thead>\n",
       "    <tr style=\"text-align: right;\">\n",
       "      <th></th>\n",
       "      <th>true_label</th>\n",
       "      <th>y_pred_drifted</th>\n",
       "      <th>entropy</th>\n",
       "      <th>text</th>\n",
       "      <th>entropy_default</th>\n",
       "      <th>corrupted_text</th>\n",
       "      <th>corrupted_entropy</th>\n",
       "    </tr>\n",
       "  </thead>\n",
       "  <tbody>\n",
       "    <tr>\n",
       "      <th>0</th>\n",
       "      <td>1</td>\n",
       "      <td>1</td>\n",
       "      <td>46.0</td>\n",
       "      <td>\"materials and marking with radio-opaque mater...</td>\n",
       "      <td>4.6</td>\n",
       "      <td>\"materials a&amp;!#!#&amp;!$$$@@nd m&amp;arking $***^with ...</td>\n",
       "      <td>4.947719</td>\n",
       "    </tr>\n",
       "    <tr>\n",
       "      <th>1</th>\n",
       "      <td>1</td>\n",
       "      <td>1</td>\n",
       "      <td>45.0</td>\n",
       "      <td>\"Although de Torres et al. demonstrated by usi...</td>\n",
       "      <td>4.5</td>\n",
       "      <td>\"Although de Torres et%$^ a$@%^#l. demonstr&amp;%@...</td>\n",
       "      <td>4.895822</td>\n",
       "    </tr>\n",
       "    <tr>\n",
       "      <th>2</th>\n",
       "      <td>2</td>\n",
       "      <td>2</td>\n",
       "      <td>46.0</td>\n",
       "      <td>range of diseases including malignancies and a...</td>\n",
       "      <td>4.6</td>\n",
       "      <td>%!$range of di^!se!@@#a^ses incl&amp;%uding *malig...</td>\n",
       "      <td>4.950942</td>\n",
       "    </tr>\n",
       "    <tr>\n",
       "      <th>3</th>\n",
       "      <td>1</td>\n",
       "      <td>1</td>\n",
       "      <td>48.0</td>\n",
       "      <td>\"Former (quit ?1 y) 39 (48%) 30 (48%) 9 (50%) ...</td>\n",
       "      <td>4.8</td>\n",
       "      <td>^$\"Former (qui*&amp;!@*%%t ?1 y#) 39 (48&amp;%) 30 ^#$...</td>\n",
       "      <td>5.073463</td>\n",
       "    </tr>\n",
       "    <tr>\n",
       "      <th>4</th>\n",
       "      <td>2</td>\n",
       "      <td>2</td>\n",
       "      <td>45.0</td>\n",
       "      <td>Rheumatoid arthritis RA is a systemic chronic...</td>\n",
       "      <td>4.5</td>\n",
       "      <td>Rheumato$#id arthr%itis RA &amp;%$&amp;#is a s*!!y!*$...</td>\n",
       "      <td>4.884272</td>\n",
       "    </tr>\n",
       "  </tbody>\n",
       "</table>\n",
       "</div>"
      ],
      "text/plain": [
       "   true_label  y_pred_drifted  entropy  \\\n",
       "0           1               1     46.0   \n",
       "1           1               1     45.0   \n",
       "2           2               2     46.0   \n",
       "3           1               1     48.0   \n",
       "4           2               2     45.0   \n",
       "\n",
       "                                                text  entropy_default  \\\n",
       "0  \"materials and marking with radio-opaque mater...              4.6   \n",
       "1  \"Although de Torres et al. demonstrated by usi...              4.5   \n",
       "2  range of diseases including malignancies and a...              4.6   \n",
       "3  \"Former (quit ?1 y) 39 (48%) 30 (48%) 9 (50%) ...              4.8   \n",
       "4   Rheumatoid arthritis RA is a systemic chronic...              4.5   \n",
       "\n",
       "                                      corrupted_text  corrupted_entropy  \n",
       "0  \"materials a&!#!#&!$$$@@nd m&arking $***^with ...           4.947719  \n",
       "1  \"Although de Torres et%$^ a$@%^#l. demonstr&%@...           4.895822  \n",
       "2  %!$range of di^!se!@@#a^ses incl&%uding *malig...           4.950942  \n",
       "3  ^$\"Former (qui*&!@*%%t ?1 y#) 39 (48&%) 30 ^#$...           5.073463  \n",
       "4   Rheumato$#id arthr%itis RA &%$&#is a s*!!y!*$...           4.884272  "
      ]
     },
     "execution_count": 124,
     "metadata": {},
     "output_type": "execute_result"
    }
   ],
   "source": [
    "remaining_samples['corrupted_entropy'] = remaining_samples['corrupted_text'].apply(calculate_entropy)\n",
    "remaining_samples.head()"
   ]
  },
  {
   "cell_type": "code",
   "execution_count": 125,
   "id": "17550ac4-fcf2-4be0-a20e-2b6b193016dd",
   "metadata": {},
   "outputs": [
    {
     "data": {
      "image/png": "[encoded data removed]",
      "text/plain": [
       "<Figure size 1000x600 with 1 Axes>"
      ]
     },
     "metadata": {},
     "output_type": "display_data"
    }
   ],
   "source": [
    "remaining_samples['corrupted_entropy'] = remaining_samples['corrupted_entropy'].round(1)\n",
    "plt.figure(figsize=(10, 6))\n",
    "remaining_samples['corrupted_entropy'].value_counts().sort_index().plot(kind='bar', color='skyblue')\n",
    "plt.title('Frequency Bar Chart of Entropy')\n",
    "plt.xlabel('Entropy Values')\n",
    "plt.ylabel('Frequency')\n",
    "plt.xticks(rotation=45)\n",
    "plt.grid(axis='y', linestyle='--', alpha=0.7)\n",
    "plt.show()"
   ]
  },
  {
   "cell_type": "code",
   "execution_count": 126,
   "id": "8fb53da2-13a9-4f66-9157-97d71050dc19",
   "metadata": {},
   "outputs": [
    {
     "name": "stdout",
     "output_type": "stream",
     "text": [
      "42/42 [==============================] - 5s 117ms/step\n"
     ]
    },
    {
     "data": {
      "text/plain": [
       "array([1, 0, 2, ..., 1, 1, 2])"
      ]
     },
     "execution_count": 126,
     "metadata": {},
     "output_type": "execute_result"
    }
   ],
   "source": [
    "X_test_seq = tokenizer.texts_to_sequences(remaining_samples['corrupted_text'])\n",
    "X_test_pad = pad_sequences(X_test_seq, maxlen=max_len)\n",
    "predictions = model.predict(X_test_pad)\n",
    "predicted_labels = np.argmax(predictions, axis=1)\n",
    "predicted_labels"
   ]
  },
  {
   "cell_type": "code",
   "execution_count": 127,
   "id": "52400fa7-654c-4639-bb71-7c862601f235",
   "metadata": {},
   "outputs": [
    {
     "data": {
      "text/html": [
       "<div>\n",
       "<style scoped>\n",
       "    .dataframe tbody tr th:only-of-type {\n",
       "        vertical-align: middle;\n",
       "    }\n",
       "\n",
       "    .dataframe tbody tr th {\n",
       "        vertical-align: top;\n",
       "    }\n",
       "\n",
       "    .dataframe thead th {\n",
       "        text-align: right;\n",
       "    }\n",
       "</style>\n",
       "<table border=\"1\" class=\"dataframe\">\n",
       "  <thead>\n",
       "    <tr style=\"text-align: right;\">\n",
       "      <th></th>\n",
       "      <th>true_label</th>\n",
       "      <th>y_pred_drifted</th>\n",
       "      <th>entropy</th>\n",
       "      <th>text</th>\n",
       "      <th>entropy_default</th>\n",
       "      <th>corrupted_text</th>\n",
       "      <th>corrupted_entropy</th>\n",
       "      <th>Corrupted Predicted Labels</th>\n",
       "    </tr>\n",
       "  </thead>\n",
       "  <tbody>\n",
       "    <tr>\n",
       "      <th>0</th>\n",
       "      <td>1</td>\n",
       "      <td>1</td>\n",
       "      <td>46.0</td>\n",
       "      <td>\"materials and marking with radio-opaque mater...</td>\n",
       "      <td>4.6</td>\n",
       "      <td>\"materials a&amp;!#!#&amp;!$$$@@nd m&amp;arking $***^with ...</td>\n",
       "      <td>4.9</td>\n",
       "      <td>1</td>\n",
       "    </tr>\n",
       "    <tr>\n",
       "      <th>1</th>\n",
       "      <td>1</td>\n",
       "      <td>1</td>\n",
       "      <td>45.0</td>\n",
       "      <td>\"Although de Torres et al. demonstrated by usi...</td>\n",
       "      <td>4.5</td>\n",
       "      <td>\"Although de Torres et%$^ a$@%^#l. demonstr&amp;%@...</td>\n",
       "      <td>4.9</td>\n",
       "      <td>0</td>\n",
       "    </tr>\n",
       "    <tr>\n",
       "      <th>2</th>\n",
       "      <td>2</td>\n",
       "      <td>2</td>\n",
       "      <td>46.0</td>\n",
       "      <td>range of diseases including malignancies and a...</td>\n",
       "      <td>4.6</td>\n",
       "      <td>%!$range of di^!se!@@#a^ses incl&amp;%uding *malig...</td>\n",
       "      <td>5.0</td>\n",
       "      <td>2</td>\n",
       "    </tr>\n",
       "    <tr>\n",
       "      <th>3</th>\n",
       "      <td>1</td>\n",
       "      <td>1</td>\n",
       "      <td>48.0</td>\n",
       "      <td>\"Former (quit ?1 y) 39 (48%) 30 (48%) 9 (50%) ...</td>\n",
       "      <td>4.8</td>\n",
       "      <td>^$\"Former (qui*&amp;!@*%%t ?1 y#) 39 (48&amp;%) 30 ^#$...</td>\n",
       "      <td>5.1</td>\n",
       "      <td>1</td>\n",
       "    </tr>\n",
       "    <tr>\n",
       "      <th>4</th>\n",
       "      <td>2</td>\n",
       "      <td>2</td>\n",
       "      <td>45.0</td>\n",
       "      <td>Rheumatoid arthritis RA is a systemic chronic...</td>\n",
       "      <td>4.5</td>\n",
       "      <td>Rheumato$#id arthr%itis RA &amp;%$&amp;#is a s*!!y!*$...</td>\n",
       "      <td>4.9</td>\n",
       "      <td>2</td>\n",
       "    </tr>\n",
       "  </tbody>\n",
       "</table>\n",
       "</div>"
      ],
      "text/plain": [
       "   true_label  y_pred_drifted  entropy  \\\n",
       "0           1               1     46.0   \n",
       "1           1               1     45.0   \n",
       "2           2               2     46.0   \n",
       "3           1               1     48.0   \n",
       "4           2               2     45.0   \n",
       "\n",
       "                                                text  entropy_default  \\\n",
       "0  \"materials and marking with radio-opaque mater...              4.6   \n",
       "1  \"Although de Torres et al. demonstrated by usi...              4.5   \n",
       "2  range of diseases including malignancies and a...              4.6   \n",
       "3  \"Former (quit ?1 y) 39 (48%) 30 (48%) 9 (50%) ...              4.8   \n",
       "4   Rheumatoid arthritis RA is a systemic chronic...              4.5   \n",
       "\n",
       "                                      corrupted_text  corrupted_entropy  \\\n",
       "0  \"materials a&!#!#&!$$$@@nd m&arking $***^with ...                4.9   \n",
       "1  \"Although de Torres et%$^ a$@%^#l. demonstr&%@...                4.9   \n",
       "2  %!$range of di^!se!@@#a^ses incl&%uding *malig...                5.0   \n",
       "3  ^$\"Former (qui*&!@*%%t ?1 y#) 39 (48&%) 30 ^#$...                5.1   \n",
       "4   Rheumato$#id arthr%itis RA &%$&#is a s*!!y!*$...                4.9   \n",
       "\n",
       "   Corrupted Predicted Labels  \n",
       "0                           1  \n",
       "1                           0  \n",
       "2                           2  \n",
       "3                           1  \n",
       "4                           2  "
      ]
     },
     "execution_count": 127,
     "metadata": {},
     "output_type": "execute_result"
    }
   ],
   "source": [
    "remaining_samples['Corrupted Predicted Labels'] = predicted_labels\n",
    "remaining_samples.head()"
   ]
  },
  {
   "cell_type": "code",
   "execution_count": 129,
   "id": "40e5c9e2-c882-46ad-8848-a8e0f8bbfd90",
   "metadata": {},
   "outputs": [],
   "source": [
    "remaining_samples['corrupted_entropy_default'] = remaining_samples['corrupted_entropy'].copy()  # backup \n",
    "remaining_samples['corrupted_entropy'] = remaining_samples['corrupted_entropy'] * 10  # Multiply entropy by 10"
   ]
  },
  {
   "cell_type": "code",
   "execution_count": 130,
   "id": "073acbd8-d520-457c-8fc0-76d5f4b2bb3c",
   "metadata": {},
   "outputs": [
    {
     "data": {
      "text/html": [
       "<div>\n",
       "<style scoped>\n",
       "    .dataframe tbody tr th:only-of-type {\n",
       "        vertical-align: middle;\n",
       "    }\n",
       "\n",
       "    .dataframe tbody tr th {\n",
       "        vertical-align: top;\n",
       "    }\n",
       "\n",
       "    .dataframe thead th {\n",
       "        text-align: right;\n",
       "    }\n",
       "</style>\n",
       "<table border=\"1\" class=\"dataframe\">\n",
       "  <thead>\n",
       "    <tr style=\"text-align: right;\">\n",
       "      <th></th>\n",
       "      <th>true_label</th>\n",
       "      <th>y_pred_drifted</th>\n",
       "      <th>entropy</th>\n",
       "      <th>text</th>\n",
       "      <th>entropy_default</th>\n",
       "      <th>corrupted_text</th>\n",
       "      <th>corrupted_entropy</th>\n",
       "      <th>Corrupted Predicted Labels</th>\n",
       "      <th>corrupted_entropy_default</th>\n",
       "    </tr>\n",
       "  </thead>\n",
       "  <tbody>\n",
       "    <tr>\n",
       "      <th>0</th>\n",
       "      <td>1</td>\n",
       "      <td>1</td>\n",
       "      <td>46.0</td>\n",
       "      <td>\"materials and marking with radio-opaque mater...</td>\n",
       "      <td>4.6</td>\n",
       "      <td>\"materials a&amp;!#!#&amp;!$$$@@nd m&amp;arking $***^with ...</td>\n",
       "      <td>49.0</td>\n",
       "      <td>1</td>\n",
       "      <td>4.9</td>\n",
       "    </tr>\n",
       "    <tr>\n",
       "      <th>1</th>\n",
       "      <td>1</td>\n",
       "      <td>1</td>\n",
       "      <td>45.0</td>\n",
       "      <td>\"Although de Torres et al. demonstrated by usi...</td>\n",
       "      <td>4.5</td>\n",
       "      <td>\"Although de Torres et%$^ a$@%^#l. demonstr&amp;%@...</td>\n",
       "      <td>49.0</td>\n",
       "      <td>0</td>\n",
       "      <td>4.9</td>\n",
       "    </tr>\n",
       "    <tr>\n",
       "      <th>2</th>\n",
       "      <td>2</td>\n",
       "      <td>2</td>\n",
       "      <td>46.0</td>\n",
       "      <td>range of diseases including malignancies and a...</td>\n",
       "      <td>4.6</td>\n",
       "      <td>%!$range of di^!se!@@#a^ses incl&amp;%uding *malig...</td>\n",
       "      <td>50.0</td>\n",
       "      <td>2</td>\n",
       "      <td>5.0</td>\n",
       "    </tr>\n",
       "    <tr>\n",
       "      <th>3</th>\n",
       "      <td>1</td>\n",
       "      <td>1</td>\n",
       "      <td>48.0</td>\n",
       "      <td>\"Former (quit ?1 y) 39 (48%) 30 (48%) 9 (50%) ...</td>\n",
       "      <td>4.8</td>\n",
       "      <td>^$\"Former (qui*&amp;!@*%%t ?1 y#) 39 (48&amp;%) 30 ^#$...</td>\n",
       "      <td>51.0</td>\n",
       "      <td>1</td>\n",
       "      <td>5.1</td>\n",
       "    </tr>\n",
       "    <tr>\n",
       "      <th>4</th>\n",
       "      <td>2</td>\n",
       "      <td>2</td>\n",
       "      <td>45.0</td>\n",
       "      <td>Rheumatoid arthritis RA is a systemic chronic...</td>\n",
       "      <td>4.5</td>\n",
       "      <td>Rheumato$#id arthr%itis RA &amp;%$&amp;#is a s*!!y!*$...</td>\n",
       "      <td>49.0</td>\n",
       "      <td>2</td>\n",
       "      <td>4.9</td>\n",
       "    </tr>\n",
       "  </tbody>\n",
       "</table>\n",
       "</div>"
      ],
      "text/plain": [
       "   true_label  y_pred_drifted  entropy  \\\n",
       "0           1               1     46.0   \n",
       "1           1               1     45.0   \n",
       "2           2               2     46.0   \n",
       "3           1               1     48.0   \n",
       "4           2               2     45.0   \n",
       "\n",
       "                                                text  entropy_default  \\\n",
       "0  \"materials and marking with radio-opaque mater...              4.6   \n",
       "1  \"Although de Torres et al. demonstrated by usi...              4.5   \n",
       "2  range of diseases including malignancies and a...              4.6   \n",
       "3  \"Former (quit ?1 y) 39 (48%) 30 (48%) 9 (50%) ...              4.8   \n",
       "4   Rheumatoid arthritis RA is a systemic chronic...              4.5   \n",
       "\n",
       "                                      corrupted_text  corrupted_entropy  \\\n",
       "0  \"materials a&!#!#&!$$$@@nd m&arking $***^with ...               49.0   \n",
       "1  \"Although de Torres et%$^ a$@%^#l. demonstr&%@...               49.0   \n",
       "2  %!$range of di^!se!@@#a^ses incl&%uding *malig...               50.0   \n",
       "3  ^$\"Former (qui*&!@*%%t ?1 y#) 39 (48&%) 30 ^#$...               51.0   \n",
       "4   Rheumato$#id arthr%itis RA &%$&#is a s*!!y!*$...               49.0   \n",
       "\n",
       "   Corrupted Predicted Labels  corrupted_entropy_default  \n",
       "0                           1                        4.9  \n",
       "1                           0                        4.9  \n",
       "2                           2                        5.0  \n",
       "3                           1                        5.1  \n",
       "4                           2                        4.9  "
      ]
     },
     "execution_count": 130,
     "metadata": {},
     "output_type": "execute_result"
    }
   ],
   "source": [
    "remaining_samples.head()"
   ]
  },
  {
   "cell_type": "code",
   "execution_count": 132,
   "id": "7ddc56e0-263b-425c-ab89-28f4c3fca0e5",
   "metadata": {},
   "outputs": [
    {
     "data": {
      "text/html": [
       "<div>\n",
       "<style scoped>\n",
       "    .dataframe tbody tr th:only-of-type {\n",
       "        vertical-align: middle;\n",
       "    }\n",
       "\n",
       "    .dataframe tbody tr th {\n",
       "        vertical-align: top;\n",
       "    }\n",
       "\n",
       "    .dataframe thead th {\n",
       "        text-align: right;\n",
       "    }\n",
       "</style>\n",
       "<table border=\"1\" class=\"dataframe\">\n",
       "  <thead>\n",
       "    <tr style=\"text-align: right;\">\n",
       "      <th></th>\n",
       "      <th>true_label</th>\n",
       "      <th>text</th>\n",
       "      <th>entropy</th>\n",
       "      <th>entropy_default</th>\n",
       "      <th>y_pred_drifted</th>\n",
       "    </tr>\n",
       "  </thead>\n",
       "  <tbody>\n",
       "    <tr>\n",
       "      <th>0</th>\n",
       "      <td>1</td>\n",
       "      <td>\"materials a&amp;!#!#&amp;!$$$@@nd m&amp;arking $***^with ...</td>\n",
       "      <td>49.0</td>\n",
       "      <td>4.9</td>\n",
       "      <td>1</td>\n",
       "    </tr>\n",
       "    <tr>\n",
       "      <th>1</th>\n",
       "      <td>1</td>\n",
       "      <td>\"Although de Torres et%$^ a$@%^#l. demonstr&amp;%@...</td>\n",
       "      <td>49.0</td>\n",
       "      <td>4.9</td>\n",
       "      <td>0</td>\n",
       "    </tr>\n",
       "    <tr>\n",
       "      <th>2</th>\n",
       "      <td>2</td>\n",
       "      <td>%!$range of di^!se!@@#a^ses incl&amp;%uding *malig...</td>\n",
       "      <td>50.0</td>\n",
       "      <td>5.0</td>\n",
       "      <td>2</td>\n",
       "    </tr>\n",
       "    <tr>\n",
       "      <th>3</th>\n",
       "      <td>1</td>\n",
       "      <td>^$\"Former (qui*&amp;!@*%%t ?1 y#) 39 (48&amp;%) 30 ^#$...</td>\n",
       "      <td>51.0</td>\n",
       "      <td>5.1</td>\n",
       "      <td>1</td>\n",
       "    </tr>\n",
       "    <tr>\n",
       "      <th>4</th>\n",
       "      <td>2</td>\n",
       "      <td>Rheumato$#id arthr%itis RA &amp;%$&amp;#is a s*!!y!*$...</td>\n",
       "      <td>49.0</td>\n",
       "      <td>4.9</td>\n",
       "      <td>2</td>\n",
       "    </tr>\n",
       "  </tbody>\n",
       "</table>\n",
       "</div>"
      ],
      "text/plain": [
       "   true_label                                               text  entropy  \\\n",
       "0           1  \"materials a&!#!#&!$$$@@nd m&arking $***^with ...     49.0   \n",
       "1           1  \"Although de Torres et%$^ a$@%^#l. demonstr&%@...     49.0   \n",
       "2           2  %!$range of di^!se!@@#a^ses incl&%uding *malig...     50.0   \n",
       "3           1  ^$\"Former (qui*&!@*%%t ?1 y#) 39 (48&%) 30 ^#$...     51.0   \n",
       "4           2   Rheumato$#id arthr%itis RA &%$&#is a s*!!y!*$...     49.0   \n",
       "\n",
       "   entropy_default  y_pred_drifted  \n",
       "0              4.9               1  \n",
       "1              4.9               0  \n",
       "2              5.0               2  \n",
       "3              5.1               1  \n",
       "4              4.9               2  "
      ]
     },
     "execution_count": 132,
     "metadata": {},
     "output_type": "execute_result"
    }
   ],
   "source": [
    "test_results = remaining_samples.copy()\n",
    "# test_results = test_results[['Actual Labels', 'corrupted_text', 'corrupted_entropy', 'Corrupted Predicted Labels']]\n",
    "test_results = test_results[['true_label', 'corrupted_text', 'corrupted_entropy', 'corrupted_entropy_default', 'Corrupted Predicted Labels']]\n",
    "test_results = test_results.rename(columns={'Actual Labels': 'true_label', 'Corrupted Predicted Labels': 'y_pred_drifted', 'corrupted_text': 'text', 'corrupted_entropy': 'entropy', 'corrupted_entropy_default': 'entropy_default'})\n",
    "test_results.head()"
   ]
  },
  {
   "cell_type": "code",
   "execution_count": 133,
   "id": "0259ed5c-3784-4703-9a41-372e5c8022b3",
   "metadata": {},
   "outputs": [],
   "source": [
    "test_results.to_csv(\"output/cancer-redo/data_quality_output.csv\")"
   ]
  },
  {
   "cell_type": "code",
   "execution_count": null,
   "id": "4b6e372c-82d7-498a-83d2-39af06c9d063",
   "metadata": {},
   "outputs": [],
   "source": []
  },
  {
   "cell_type": "code",
   "execution_count": 134,
   "id": "cdf67f3b-ef96-4176-922f-d8ca96f18b45",
   "metadata": {},
   "outputs": [
    {
     "data": {
      "text/plain": [
       "1.2192748563312343"
      ]
     },
     "execution_count": 134,
     "metadata": {},
     "output_type": "execute_result"
    }
   ],
   "source": [
    "calculate_psi(filtered_samples['y_pred_drifted'], remaining_samples['y_pred_drifted'], buckets=3, axis=1)"
   ]
  },
  {
   "cell_type": "code",
   "execution_count": 137,
   "id": "6ccac167-a734-4f13-9560-0745221d3f0d",
   "metadata": {},
   "outputs": [],
   "source": [
    "def get_psi_for_simulation_data(arr_y, window_size = 300):\n",
    "    psi_values = []\n",
    "    results = arr_y\n",
    "    # Check if results array has enough data\n",
    "    if len(results) < window_size:\n",
    "        print(\"Not enough data in results for sliding window.\")\n",
    "    else:\n",
    "        # Sliding window loop\n",
    "        for start in range(len(results) - window_size + 1):\n",
    "            # Get the current window\n",
    "            window = results[start:start + window_size]\n",
    "        \n",
    "            # Extract expected and actual values\n",
    "            expected = window[:window_size // 2]  # First half of the window\n",
    "            actual = window[window_size // 2:]   # Second half of the window\n",
    "        \n",
    "            # Debugging: Check sizes\n",
    "            # print(f\"Processing window starting at index {start}\")\n",
    "            # print(f\"Expected size: {len(expected)}, Actual size: {len(actual)}\")\n",
    "        \n",
    "            # Calculate PSI for the current window\n",
    "            psi_value = calculate_psi(expected, actual, buckets=3, axis=0)  # edit\n",
    "            psi_values.append(psi_value)\n",
    "    return psi_values"
   ]
  },
  {
   "cell_type": "code",
   "execution_count": 138,
   "id": "a2a8a00e-b105-4dc4-90f2-ae11fdbd49a1",
   "metadata": {},
   "outputs": [
    {
     "name": "stderr",
     "output_type": "stream",
     "text": [
      "/tmp/ipykernel_253049/3595005488.py:32: FutureWarning: The behavior of DataFrame concatenation with empty or all-NA entries is deprecated. In a future version, this will no longer exclude empty or all-NA columns when determining the result dtypes. To retain the old behavior, exclude the relevant entries before the concat operation.\n",
      "  df_X = pd.concat([df_X, X_sample], ignore_index=True)\n"
     ]
    },
    {
     "data": {
      "image/png": "[encoded data removed]",
      "text/plain": [
       "<Figure size 1200x600 with 1 Axes>"
      ]
     },
     "metadata": {},
     "output_type": "display_data"
    }
   ],
   "source": [
    "df_X, arr_y =  get_simulation_input(filtered_samples, remaining_samples, filtered_samples['y_pred_drifted'], remaining_samples['y_pred_drifted'], sample_size = 50)\n",
    "psi_values = get_psi_for_simulation_data(arr_y, window_size = 300)\n",
    "title='PSI Values Over Sliding Windows for classification result (y): model drift by data quality'\n",
    "plot_psi(psi_values, title)"
   ]
  },
  {
   "cell_type": "code",
   "execution_count": null,
   "id": "e40506cf-7d7b-4ae3-8ca3-12f2317c989a",
   "metadata": {},
   "outputs": [],
   "source": []
  }
 ],
 "metadata": {
  "kernelspec": {
   "display_name": "Python 3 (ipykernel)",
   "language": "python",
   "name": "python3"
  },
  "language_info": {
   "codemirror_mode": {
    "name": "ipython",
    "version": 3
   },
   "file_extension": ".py",
   "mimetype": "text/x-python",
   "name": "python",
   "nbconvert_exporter": "python",
   "pygments_lexer": "ipython3",
   "version": "3.10.17"
  }
 },
 "nbformat": 4,
 "nbformat_minor": 5
}
